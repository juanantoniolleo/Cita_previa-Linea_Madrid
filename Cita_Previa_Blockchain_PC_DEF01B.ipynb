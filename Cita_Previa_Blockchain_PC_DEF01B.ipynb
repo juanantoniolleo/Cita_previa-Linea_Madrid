{
 "cells": [
  {
   "cell_type": "markdown",
   "metadata": {},
   "source": [
    "# Cita Previa con Blockchain - Prueba de Concepto, En Lenguaje Python\n",
    "\n",
    "#### ADAPTADO PARA INCLUIR LOS DATOS DEL SISTEMA DE CITA PREVIA DEL AYUNTAMIENTO DE MADRID EN UNA CADENA DE BLOQUES.\n",
    "\n",
    "#### BASADO EN: Build Your Own Blockchain - The Basics\n",
    "\n",
    "#### ENLACE:\n",
    "http://ecomunsing.com/build-your-own-blockchain\n",
    "\n",
    "This tutorial will walk you through the basics of how to build a blockchain from scratch. Focusing on the details of a concrete example will provide a deeper understanding of the strengths and limitations of blockchains. For a higher-level overview, I'd recommend [this excellent article from BitsOnBlocks](https://bitsonblocks.net/2015/09/09/a-gentle-introduction-to-blockchain-technology/)."
   ]
  },
  {
   "cell_type": "markdown",
   "metadata": {},
   "source": [
    "### DATASET CITA PREVIA:\n",
    "\n",
    "* PARA ESTE EJEMPLO USO EL DATASET DEL AYUNTAMIENTO SOBRE LOS DATOS DE CITA PREVIA, CORRESPONDIENTES A ENERO DEL 2017\n",
    "\n",
    "* EL FORMATO DEL MISMO ES EL SIGUIENTE Y DEBAJO ESTA LA PRIMERA LINEA DE DATOS:\n",
    "\n",
    "#### CANAL / DETALLE_CANAL / FECHA_CONCERTACION / OFICINA_CITA / FECHA_ATENCION / TAREA / ATENDIDA\n",
    "\n",
    "Internet / Fijo / 05/04/2017 / OAC CIUDAD LINEAL / 11/04/2017 / PADRON / No"
   ]
  },
  {
   "cell_type": "markdown",
   "metadata": {},
   "source": [
    "### NOTAS SOBRE EL DATASET: \n",
    "#### NOMBRE DEL FICHERO: datos_cita_previa_201711.csv\n",
    "\n",
    "ESTE FICHERO CONTIENE TODOS LOS DATOS CORRESPONDIENTES A 2017, SUBIDOS HASTA LA FECHA DE DESCARGA.\n",
    "ENLACE A LA PAGINA GENERAL:\n",
    "\n",
    "http://datos.madrid.es/sites/v/index.jsp?vgnextoid=3551a6fb1326a410VgnVCM1000000b205a0aRCRD&vgnextchannel=374512b9ace9f310VgnVCM100000171f5a0aRCRD\n",
    "\n",
    "### A CONTINUACION, AÑADO UNAS PEQUEÑAS NOTAS DE ANÁLISIS DEL DATASET:\n",
    "#### DATASET: datos_cita_previa_201711.csv\n",
    "\n",
    "#### CABECERA: 7 CAMPOS EN TOTAL\n",
    "#### CANAL; DETALLE_CANAL; FECHA_CONCERTACION; OFICINA_CITA; FECHA_ATENCION; TAREA; ATENDIDA\n",
    "\n",
    "#### ANALISIS: 3 BLOQUES EN TOTAL: \n",
    "\n",
    "#### TOTAL DE CONSULTAS: 997.043\n",
    "\t2 -> 288.362\tINTERNET (MOVIL O FIJO)\n",
    "\t\tTOTAL: 288.360\n",
    "\t288363 -> 751176\tPRESENCIAL\n",
    "\t\tTOTAL: 462.813\n",
    "\t751177 -> 997044\tTELEFONICO 010\n",
    "\t\tTOTAL: 245.867"
   ]
  },
  {
   "cell_type": "markdown",
   "metadata": {},
   "source": [
    "### DATASET REDUCIDO, A PARTIR DE LOS DATOS ORIGINALES:\n",
    "Los datos corresponden a las consultas de cita previa gestionadas durante el mes de Enero de 2017.\n",
    "\n",
    "El dataset original está dividido en tres bloques principales. El elemento separador es es tabulador.\n",
    "\n",
    "Hemos creado un subset con los 100 primeros datos de cada bloque\n",
    "1º) \n",
    "datos_cita_previa_201711_SEL_100prim_cada_bloque01.csv\n",
    "\n",
    "Para las pruebas inciales, he creado un subset sólo con 10 registros:\n",
    "dataset_7columnas.csv: \n",
    "\n",
    "A CONTINUACION, UN CODIGO PARA CARGAR Y MOSTRAR EL DATASET DE DOS COLUMNAS:\n",
    "    * NOTA: EN LA TABLA, EL CARACTER TABULADOR SE REPRESENTA COMO \\t\n",
    "        "
   ]
  },
  {
   "cell_type": "code",
   "execution_count": 2,
   "metadata": {
    "collapsed": false
   },
   "outputs": [],
   "source": [
    "import numpy as np\n",
    "import pandas as pd\n",
    "\n",
    "# PARA QUE LA LECTURA DEL FICHERO FUNCIONE EN TODOS LOS LADOS, TIENE QUE ESTAR EN LA MISMA CARPETA QUE EL FICHERO DE NOTEBOOK\n",
    "# columnas = pd.read_csv(\"dataset_7columnas.csv\")\n",
    "# SUBIDO A UN SERVIDOR:\n",
    "columnas = pd.read_csv(\"http://datamad.lleo.net/citaprevia/dataset_7columnas.csv\")"
   ]
  },
  {
   "cell_type": "code",
   "execution_count": 3,
   "metadata": {
    "collapsed": false
   },
   "outputs": [
    {
     "data": {
      "text/html": [
       "<div>\n",
       "<table border=\"1\" class=\"dataframe\">\n",
       "  <thead>\n",
       "    <tr style=\"text-align: right;\">\n",
       "      <th></th>\n",
       "      <th>CANAL\tDETALLE_CANAL\tFECHA_CONCERTACION\tOFICINA_CITA\tFECHA_ATENCION\tTAREA\tATENDIDA</th>\n",
       "    </tr>\n",
       "  </thead>\n",
       "  <tbody>\n",
       "    <tr>\n",
       "      <th>0</th>\n",
       "      <td>Internet\\tFijo\\t05/04/2017\\tOAC CIUDAD LINEAL\\...</td>\n",
       "    </tr>\n",
       "    <tr>\n",
       "      <th>1</th>\n",
       "      <td>Internet\\tFijo\\t24/08/2017\\tOAC FUENCARRAL EL ...</td>\n",
       "    </tr>\n",
       "    <tr>\n",
       "      <th>2</th>\n",
       "      <td>Internet\\tFijo\\t05/04/2017\\tOFICINA DE GESTION...</td>\n",
       "    </tr>\n",
       "    <tr>\n",
       "      <th>3</th>\n",
       "      <td>Internet\\tFijo\\t27/02/2017\\tCMS INTERNACIONAL\\...</td>\n",
       "    </tr>\n",
       "    <tr>\n",
       "      <th>4</th>\n",
       "      <td>Presencial\\tOAC VILLA DE VALLECA\\t21/09/2017\\t...</td>\n",
       "    </tr>\n",
       "    <tr>\n",
       "      <th>5</th>\n",
       "      <td>Presencial\\tOAC MONCLOA ARAVACA\\t14/06/2017\\tO...</td>\n",
       "    </tr>\n",
       "    <tr>\n",
       "      <th>6</th>\n",
       "      <td>Presencial\\tOAC SAN BLAS-CANILLE\\t03/03/2017\\t...</td>\n",
       "    </tr>\n",
       "    <tr>\n",
       "      <th>7</th>\n",
       "      <td>Telefonico\\t10\\t17/10/2017\\tOAIC RAMON POWER 2...</td>\n",
       "    </tr>\n",
       "    <tr>\n",
       "      <th>8</th>\n",
       "      <td>Telefonico\\t10\\t02/08/2017\\tOAC VICALVARO\\t07/...</td>\n",
       "    </tr>\n",
       "    <tr>\n",
       "      <th>9</th>\n",
       "      <td>Telefonico\\t10\\t28/09/2017\\tAGENCIA DE ACTIVID...</td>\n",
       "    </tr>\n",
       "  </tbody>\n",
       "</table>\n",
       "</div>"
      ],
      "text/plain": [
       "  CANAL\\tDETALLE_CANAL\\tFECHA_CONCERTACION\\tOFICINA_CITA\\tFECHA_ATENCION\\tTAREA\\tATENDIDA\n",
       "0  Internet\\tFijo\\t05/04/2017\\tOAC CIUDAD LINEAL\\...                                     \n",
       "1  Internet\\tFijo\\t24/08/2017\\tOAC FUENCARRAL EL ...                                     \n",
       "2  Internet\\tFijo\\t05/04/2017\\tOFICINA DE GESTION...                                     \n",
       "3  Internet\\tFijo\\t27/02/2017\\tCMS INTERNACIONAL\\...                                     \n",
       "4  Presencial\\tOAC VILLA DE VALLECA\\t21/09/2017\\t...                                     \n",
       "5  Presencial\\tOAC MONCLOA ARAVACA\\t14/06/2017\\tO...                                     \n",
       "6  Presencial\\tOAC SAN BLAS-CANILLE\\t03/03/2017\\t...                                     \n",
       "7  Telefonico\\t10\\t17/10/2017\\tOAIC RAMON POWER 2...                                     \n",
       "8  Telefonico\\t10\\t02/08/2017\\tOAC VICALVARO\\t07/...                                     \n",
       "9  Telefonico\\t10\\t28/09/2017\\tAGENCIA DE ACTIVID...                                     "
      ]
     },
     "execution_count": 3,
     "metadata": {},
     "output_type": "execute_result"
    }
   ],
   "source": [
    "# print (columnas)\n",
    "columnas"
   ]
  },
  {
   "cell_type": "markdown",
   "metadata": {},
   "source": [
    "#### NOTA SOBRE JUPYTER NOTEBOOK: PARA EJECUTAR UN BLOQUE (CELDA) DE CODIGO, HAY QUE PULSAR SHIFT+ENTER"
   ]
  },
  {
   "cell_type": "markdown",
   "metadata": {},
   "source": [
    "### TRANSACCIONES, VALIDACIÓN Y ACTUALIZACION DEL ESTADO DEL SISTEMA:\n",
    "\n",
    "* UN BLOCKCHAIN ES UNA BASE DE DATOS DISTRIBUIDA, CON UNA SERIE DE REGLAS PARA VERIFICAR NUEVAS ADICIONES A LA BASE DE DATOS\n",
    "\t* VAMOS A CREAR BLOQUES QUE INCLUYAN UN CIERTO NÚMERO DE REGISTROS, PROCEDENTES DEL DATASET DE CITA PREVIA\n",
    "\t* DEBEMOS CREAR LA PRIMERA VEZ UN BLOQUE INICIAL, LLAMADO GENESIS\n",
    "\t* UNA VEZ CREADO UN BLOQUE NUEVO, LO ENCADENAMOS AL ANTERIOR\n",
    "\t* VAMOS A USAR UNA FUNCION HASH (CRIPTOGRÁFICA) PARA CREAR UNA HUELLA (FINGERPRINT) DE CADA REGISTRO AÑADIDO. ESTA FUNCION HASH ENLAZA CADA UNO DE NUESTROS BLOQUES CON CADA UNO DE LOS OTROS.\n",
    "\t\t* PARA QUE SEA MAS FACIL DE USAR, DEFINIMOS UNA FUNCIÓN DE AYUDA QUE ENCAPSULA LA FUNCIÓN HASH DE PYTHON QUE ESTAMOS USANDO.\n",
    "    "
   ]
  },
  {
   "cell_type": "markdown",
   "metadata": {},
   "source": [
    "### FUNCION DE AYUDA:"
   ]
  },
  {
   "cell_type": "code",
   "execution_count": 5,
   "metadata": {
    "collapsed": true
   },
   "outputs": [],
   "source": [
    "import hashlib, json\n",
    "\n",
    "def hashMe(msg=\"\"):\n",
    "    # For convenience, this is a helper function that wraps our hashing algorithm\n",
    "    if type(msg)!=str:\n",
    "        msg = json.dumps(msg,sort_keys=True)  # If we don't sort keys, we can't guarantee repeatability!\n",
    "        \n",
    "    return unicode(hashlib.sha256(msg).hexdigest(),'utf-8')"
   ]
  },
  {
   "cell_type": "markdown",
   "metadata": {},
   "source": [
    "PRUEBA DE LA FUNCION: hashMe (\"algo para encriptar\")\n",
    "    * FUNCIONA PARA STRINGS Y PARA NUMEROS"
   ]
  },
  {
   "cell_type": "code",
   "execution_count": 6,
   "metadata": {
    "collapsed": false
   },
   "outputs": [
    {
     "data": {
      "text/plain": [
       "u'5f2d2ceaababb317f87b4208ade0216767244acc56fca0fa63b46c73b767118d'"
      ]
     },
     "execution_count": 6,
     "metadata": {},
     "output_type": "execute_result"
    }
   ],
   "source": [
    "hashMe (\"algo para encriptar\")"
   ]
  },
  {
   "cell_type": "markdown",
   "metadata": {},
   "source": [
    "#### ESTA FUNCION ES LA ENCARGADA LOS DATOS DEL DATASET DE CITA PREVIA\n",
    "\n",
    "* SIETE COLUMNAS:\n",
    "    return {u'Canal': \"Presencial\", u'DetalleCanal': \"OAC VILLA DE VALLECA\", u'FechaConcer': \"21/09/2017\", u'OficinaCita': \"OMIC MORATALAZ\", u'FechaAtt': \"26/09/2017\", u'Tarea': \"INFORMACION Y NUEVAS RECLAMACIONES\", u'Atendida': \"Si\"}\n",
    "\n",
    "    * USANDO DATOS DIRECTAMENTE PUESTOS EN EL CODIGO"
   ]
  },
  {
   "cell_type": "code",
   "execution_count": 34,
   "metadata": {
    "collapsed": true
   },
   "outputs": [],
   "source": [
    "def makeTransactionEd(maxValue=10):\n",
    "    # LO QUE TIENE QUE DEVOLVER SON LOS DATOS DEL DATASET\n",
    "    # EN PRINCIPIO, LO RESUELVO PONIENDO LOS DATOS DIRECTAMENTE\n",
    "    # QUEDA PENDIENTE HACER QUE LO LEA DESDE UN ARCHIVO .CSV\n",
    "    # A 7 COLUMNAS:\n",
    "    return {u'Canal': \"Presencial\", u'DetalleCanal': \"OAC VILLA DE VALLECA\", u'FechaConcer': \"21/09/2017\", u'OficinaCita': \"OMIC MORATALAZ\", u'FechaAtt': \"26/09/2017\", u'Tarea': \"INFORMACION Y NUEVAS RECLAMACIONES\", u'Atendida': \"Si\"}\n"
   ]
  },
  {
   "cell_type": "code",
   "execution_count": 9,
   "metadata": {
    "collapsed": false
   },
   "outputs": [
    {
     "data": {
      "text/plain": [
       "{u'Atendida': 'Si',\n",
       " u'Canal': 'Presencial',\n",
       " u'DetalleCanal': 'OAC VILLA DE VALLECA',\n",
       " u'FechaAtt': '26/09/2017',\n",
       " u'FechaConcer': '21/09/2017',\n",
       " u'OficinaCita': 'OMIC MORATALAZ',\n",
       " u'Tarea': 'INFORMACION Y NUEVAS RECLAMACIONES'}"
      ]
     },
     "execution_count": 9,
     "metadata": {},
     "output_type": "execute_result"
    }
   ],
   "source": [
    "makeTransactionEd(1)"
   ]
  },
  {
   "cell_type": "markdown",
   "metadata": {},
   "source": [
    "# PENDIENTE:\n",
    "    * Crear un código que lea desde un archivo .csv y lo prepare para poder crear una cadena de bloques\n",
    "    * \n"
   ]
  },
  {
   "cell_type": "markdown",
   "metadata": {},
   "source": [
    "### BUCLE DE TRANSACCIONES\n",
    "AHORA VAMOS A CREAR UN CONJUNTO MAYOR DE TRANSACCIONES Y LOS DIVIDIMOS ENTRE BLOQUES"
   ]
  },
  {
   "cell_type": "code",
   "execution_count": 11,
   "metadata": {
    "collapsed": false
   },
   "outputs": [],
   "source": [
    "txnBuffer = [makeTransactionEd() for i in range(10)]"
   ]
  },
  {
   "cell_type": "markdown",
   "metadata": {},
   "source": [
    "#### IMPRIMIMOS EN PANTALLA EL RESULTADO DEL BUCLE:"
   ]
  },
  {
   "cell_type": "code",
   "execution_count": 12,
   "metadata": {
    "collapsed": false
   },
   "outputs": [
    {
     "data": {
      "text/plain": [
       "[{u'Atendida': 'Si',\n",
       "  u'Canal': 'Presencial',\n",
       "  u'DetalleCanal': 'OAC VILLA DE VALLECA',\n",
       "  u'FechaAtt': '26/09/2017',\n",
       "  u'FechaConcer': '21/09/2017',\n",
       "  u'OficinaCita': 'OMIC MORATALAZ',\n",
       "  u'Tarea': 'INFORMACION Y NUEVAS RECLAMACIONES'},\n",
       " {u'Atendida': 'Si',\n",
       "  u'Canal': 'Presencial',\n",
       "  u'DetalleCanal': 'OAC VILLA DE VALLECA',\n",
       "  u'FechaAtt': '26/09/2017',\n",
       "  u'FechaConcer': '21/09/2017',\n",
       "  u'OficinaCita': 'OMIC MORATALAZ',\n",
       "  u'Tarea': 'INFORMACION Y NUEVAS RECLAMACIONES'},\n",
       " {u'Atendida': 'Si',\n",
       "  u'Canal': 'Presencial',\n",
       "  u'DetalleCanal': 'OAC VILLA DE VALLECA',\n",
       "  u'FechaAtt': '26/09/2017',\n",
       "  u'FechaConcer': '21/09/2017',\n",
       "  u'OficinaCita': 'OMIC MORATALAZ',\n",
       "  u'Tarea': 'INFORMACION Y NUEVAS RECLAMACIONES'},\n",
       " {u'Atendida': 'Si',\n",
       "  u'Canal': 'Presencial',\n",
       "  u'DetalleCanal': 'OAC VILLA DE VALLECA',\n",
       "  u'FechaAtt': '26/09/2017',\n",
       "  u'FechaConcer': '21/09/2017',\n",
       "  u'OficinaCita': 'OMIC MORATALAZ',\n",
       "  u'Tarea': 'INFORMACION Y NUEVAS RECLAMACIONES'},\n",
       " {u'Atendida': 'Si',\n",
       "  u'Canal': 'Presencial',\n",
       "  u'DetalleCanal': 'OAC VILLA DE VALLECA',\n",
       "  u'FechaAtt': '26/09/2017',\n",
       "  u'FechaConcer': '21/09/2017',\n",
       "  u'OficinaCita': 'OMIC MORATALAZ',\n",
       "  u'Tarea': 'INFORMACION Y NUEVAS RECLAMACIONES'},\n",
       " {u'Atendida': 'Si',\n",
       "  u'Canal': 'Presencial',\n",
       "  u'DetalleCanal': 'OAC VILLA DE VALLECA',\n",
       "  u'FechaAtt': '26/09/2017',\n",
       "  u'FechaConcer': '21/09/2017',\n",
       "  u'OficinaCita': 'OMIC MORATALAZ',\n",
       "  u'Tarea': 'INFORMACION Y NUEVAS RECLAMACIONES'},\n",
       " {u'Atendida': 'Si',\n",
       "  u'Canal': 'Presencial',\n",
       "  u'DetalleCanal': 'OAC VILLA DE VALLECA',\n",
       "  u'FechaAtt': '26/09/2017',\n",
       "  u'FechaConcer': '21/09/2017',\n",
       "  u'OficinaCita': 'OMIC MORATALAZ',\n",
       "  u'Tarea': 'INFORMACION Y NUEVAS RECLAMACIONES'},\n",
       " {u'Atendida': 'Si',\n",
       "  u'Canal': 'Presencial',\n",
       "  u'DetalleCanal': 'OAC VILLA DE VALLECA',\n",
       "  u'FechaAtt': '26/09/2017',\n",
       "  u'FechaConcer': '21/09/2017',\n",
       "  u'OficinaCita': 'OMIC MORATALAZ',\n",
       "  u'Tarea': 'INFORMACION Y NUEVAS RECLAMACIONES'},\n",
       " {u'Atendida': 'Si',\n",
       "  u'Canal': 'Presencial',\n",
       "  u'DetalleCanal': 'OAC VILLA DE VALLECA',\n",
       "  u'FechaAtt': '26/09/2017',\n",
       "  u'FechaConcer': '21/09/2017',\n",
       "  u'OficinaCita': 'OMIC MORATALAZ',\n",
       "  u'Tarea': 'INFORMACION Y NUEVAS RECLAMACIONES'},\n",
       " {u'Atendida': 'Si',\n",
       "  u'Canal': 'Presencial',\n",
       "  u'DetalleCanal': 'OAC VILLA DE VALLECA',\n",
       "  u'FechaAtt': '26/09/2017',\n",
       "  u'FechaConcer': '21/09/2017',\n",
       "  u'OficinaCita': 'OMIC MORATALAZ',\n",
       "  u'Tarea': 'INFORMACION Y NUEVAS RECLAMACIONES'}]"
      ]
     },
     "execution_count": 12,
     "metadata": {},
     "output_type": "execute_result"
    }
   ],
   "source": [
    "txnBuffer"
   ]
  },
  {
   "cell_type": "markdown",
   "metadata": {},
   "source": [
    "# DUDA, BORRAR???\n",
    "### ESTE CODIGO SIRVE PARA ACTUALIZAR EL ESTADO DE LAS TRANSACCIONES"
   ]
  },
  {
   "cell_type": "code",
   "execution_count": 13,
   "metadata": {
    "collapsed": true
   },
   "outputs": [],
   "source": [
    "def updateState(txn, state):\n",
    "    # Inputs: txn, state: dictionaries keyed with account names, holding numeric values for transfer amount (txn) or account balance (state)\n",
    "    # Returns: Updated state, with additional users added to state if necessary\n",
    "    # NOTE: This does not not validate the transaction- just updates the state!\n",
    "    \n",
    "    # If the transaction is valid, then update the state\n",
    "    state = state.copy() # As dictionaries are mutable, let's avoid any confusion by creating a working copy of the data.\n",
    "    for key in txn:\n",
    "        if key in state.keys():\n",
    "            state[key] += txn[key]\n",
    "        else:\n",
    "            state[key] = txn[key]\n",
    "    return state"
   ]
  },
  {
   "cell_type": "markdown",
   "metadata": {},
   "source": [
    "# DUDA, BORRAR???\n",
    "### ESTE CODIGO SIRVE PARA VALIDAR LAS TRANSACCIONES"
   ]
  },
  {
   "cell_type": "code",
   "execution_count": 14,
   "metadata": {
    "collapsed": true
   },
   "outputs": [],
   "source": [
    "def isValidTxn(txn,state):\n",
    "    # Assume that the transaction is a dictionary keyed by account names\n",
    "\n",
    "    # Check that the sum of the deposits and withdrawals is 0\n",
    "    if sum(txn.values()) is not 0:\n",
    "        return False\n",
    "    \n",
    "    # Check that the transaction does not cause an overdraft\n",
    "    for key in txn.keys():\n",
    "        if key in state.keys(): \n",
    "            acctBalance = state[key]\n",
    "        else:\n",
    "            acctBalance = 0\n",
    "        if (acctBalance + txn[key]) < 0:\n",
    "            return False\n",
    "    \n",
    "    return True"
   ]
  },
  {
   "cell_type": "markdown",
   "metadata": {},
   "source": [
    "## CONSTRUYENDO EL BLOCKCHAIN:\n",
    "## DESDE LAS TRANSACCIONES A LOS BLOQUES"
   ]
  },
  {
   "cell_type": "markdown",
   "metadata": {},
   "source": [
    "¡YA ESTAMOS PREPARADOS PARA COMENZAR A CONSTRUIR NUESTRO BLOCKCHAIN!\n",
    "\n",
    "POR AHORA, NO HAY NADA EN EL BLOCKCHAIN, PERO PODEMOS CONSEGUIR QUE TODO COMIENCE DEFINIENDO EL BLOQUE GENESIS (EL PRIMER BLOQUE DEL SISTEMA)."
   ]
  },
  {
   "cell_type": "markdown",
   "metadata": {},
   "source": [
    "### BLOQUE GENESIS:\n",
    "COMO EL BLOQUE GENESIS NO ESTA ENLAZADO A NINGUN BLOQUE PREVIO, TIENE QUE SER TRATADO DE UN MODO DIFERENTE.\n",
    "PODEMOS AJUSTAR EL ESTADO DEL SISTEMA ARBITRARIAMENTE."
   ]
  },
  {
   "cell_type": "code",
   "execution_count": 16,
   "metadata": {
    "collapsed": false
   },
   "outputs": [],
   "source": [
    "# ESTA LINEA SOLO DEFINE EL ESTADO INICIAL, PARA GENERAR EL BLOQUE GENESIS:\n",
    "state = {u'Canal': \"Presencial\", u'DetalleCanal': \"OAC VILLA DE VALLECA\", u'FechaConcer': \"21/09/2017\", u'OficinaCita': \"OMIC MORATALAZ\", u'FechaAtt': \"26/09/2017\", u'Tarea': \"INFORMACION Y NUEVAS RECLAMACIONES\", u'Atendida': \"Si\"}\n",
    "genesisBlockTxns = [state]\n",
    "genesisBlockContents = {u'blockNumber':0,u'parentHash':None,u'txnCount':1,u'txns':genesisBlockTxns}\n",
    "genesisHash = hashMe( genesisBlockContents )\n",
    "genesisBlock = {u'hash':genesisHash,u'contents':genesisBlockContents}\n",
    "genesisBlockStr = json.dumps(genesisBlock, sort_keys=True)"
   ]
  },
  {
   "cell_type": "markdown",
   "metadata": {},
   "source": [
    "#### IMPRIMIMOS EL PRIMER ELEMENTO (GENESIS) A PARTIR DEL CUAL, TODOS LOS SIGUIENTES TIENEN QUE ESTAR ENLAZADOS."
   ]
  },
  {
   "cell_type": "code",
   "execution_count": 17,
   "metadata": {
    "collapsed": false
   },
   "outputs": [
    {
     "name": "stdout",
     "output_type": "stream",
     "text": [
      "{u'Canal': 'Presencial', u'OficinaCita': 'OMIC MORATALAZ', u'DetalleCanal': 'OAC VILLA DE VALLECA', u'FechaAtt': '26/09/2017', u'Atendida': 'Si', u'FechaConcer': '21/09/2017', u'Tarea': 'INFORMACION Y NUEVAS RECLAMACIONES'}\n"
     ]
    }
   ],
   "source": [
    "print (state)"
   ]
  },
  {
   "cell_type": "markdown",
   "metadata": {},
   "source": [
    "#### A CONTINUACION, AÑADIMOS EL PRIMER BLOQUE (GENESIS) A LA CADENA DE BLOQUES (VARIABLE CHAIN)"
   ]
  },
  {
   "cell_type": "code",
   "execution_count": 18,
   "metadata": {
    "collapsed": false
   },
   "outputs": [],
   "source": [
    "chain = [genesisBlock]"
   ]
  },
  {
   "cell_type": "markdown",
   "metadata": {},
   "source": [
    "#### NOTAS SOBRE EL BLOCKCHAIN Y SUS FUNCIONES:\n",
    "* SI PONGO UNA SENTENCIA COMO: print (chain)\n",
    "    IMPRIME POR PANTALLA EL CONTENIDO DEL BLOCKCHAIN:\n",
    "    * SI SOLO SE HA CREADO EL PRIMER BLOQUE (GENESIS), SOLO SE IMPRIME UNO\n",
    "    * PERO SI YA HAY HECHAS UNAS CUANTAS TRANSACCIONES, AL EJECUTAR print (chain),\n",
    "    SALEN TODAS LAS TRANSACCIONES EJECUTADAS"
   ]
  },
  {
   "cell_type": "markdown",
   "metadata": {},
   "source": [
    "#### IMPRIMIMOS A CONTINUACION EL CONTENIDO DE LAS DISTINTAS VARIABLES DEL BLOQUE GENESIS"
   ]
  },
  {
   "cell_type": "code",
   "execution_count": 19,
   "metadata": {
    "collapsed": false
   },
   "outputs": [
    {
     "name": "stdout",
     "output_type": "stream",
     "text": [
      "[{u'hash': u'd5dc13b6c9658c60b67efcebf54eb2a7a896f5e69532774d8fd6da91c70b9aab', u'contents': {u'txns': [{u'Canal': 'Presencial', u'OficinaCita': 'OMIC MORATALAZ', u'DetalleCanal': 'OAC VILLA DE VALLECA', u'FechaAtt': '26/09/2017', u'Atendida': 'Si', u'FechaConcer': '21/09/2017', u'Tarea': 'INFORMACION Y NUEVAS RECLAMACIONES'}], u'parentHash': None, u'txnCount': 1, u'blockNumber': 0}}]\n"
     ]
    }
   ],
   "source": [
    "print (chain)"
   ]
  },
  {
   "cell_type": "code",
   "execution_count": 20,
   "metadata": {
    "collapsed": false
   },
   "outputs": [
    {
     "name": "stdout",
     "output_type": "stream",
     "text": [
      "{u'hash': u'd5dc13b6c9658c60b67efcebf54eb2a7a896f5e69532774d8fd6da91c70b9aab', u'contents': {u'txns': [{u'Canal': 'Presencial', u'OficinaCita': 'OMIC MORATALAZ', u'DetalleCanal': 'OAC VILLA DE VALLECA', u'FechaAtt': '26/09/2017', u'Atendida': 'Si', u'FechaConcer': '21/09/2017', u'Tarea': 'INFORMACION Y NUEVAS RECLAMACIONES'}], u'parentHash': None, u'txnCount': 1, u'blockNumber': 0}}\n"
     ]
    }
   ],
   "source": [
    "print (genesisBlock)"
   ]
  },
  {
   "cell_type": "code",
   "execution_count": 21,
   "metadata": {
    "collapsed": false
   },
   "outputs": [
    {
     "name": "stdout",
     "output_type": "stream",
     "text": [
      "{\"contents\": {\"blockNumber\": 0, \"parentHash\": null, \"txnCount\": 1, \"txns\": [{\"Atendida\": \"Si\", \"Canal\": \"Presencial\", \"DetalleCanal\": \"OAC VILLA DE VALLECA\", \"FechaAtt\": \"26/09/2017\", \"FechaConcer\": \"21/09/2017\", \"OficinaCita\": \"OMIC MORATALAZ\", \"Tarea\": \"INFORMACION Y NUEVAS RECLAMACIONES\"}]}, \"hash\": \"d5dc13b6c9658c60b67efcebf54eb2a7a896f5e69532774d8fd6da91c70b9aab\"}\n"
     ]
    }
   ],
   "source": [
    "print (genesisBlockStr)"
   ]
  },
  {
   "cell_type": "markdown",
   "metadata": {},
   "source": [
    "# REPASAR:\n",
    "A CONTINUACION PRUEBO ALGUNOS TROZOS DE CODIGO Y A IMPRIMIR ALGUNAS VARIABLES, PARA VER LOS CONTENIDOS:"
   ]
  },
  {
   "cell_type": "code",
   "execution_count": 25,
   "metadata": {
    "collapsed": true
   },
   "outputs": [],
   "source": [
    "genesisBlockStr1 = json.dumps(genesisBlock, sort_keys=False)"
   ]
  },
  {
   "cell_type": "code",
   "execution_count": null,
   "metadata": {
    "collapsed": true
   },
   "outputs": [],
   "source": []
  },
  {
   "cell_type": "code",
   "execution_count": 26,
   "metadata": {
    "collapsed": false
   },
   "outputs": [
    {
     "name": "stdout",
     "output_type": "stream",
     "text": [
      "{\"hash\": \"d5dc13b6c9658c60b67efcebf54eb2a7a896f5e69532774d8fd6da91c70b9aab\", \"contents\": {\"txns\": [{\"Canal\": \"Presencial\", \"OficinaCita\": \"OMIC MORATALAZ\", \"DetalleCanal\": \"OAC VILLA DE VALLECA\", \"FechaAtt\": \"26/09/2017\", \"Atendida\": \"Si\", \"FechaConcer\": \"21/09/2017\", \"Tarea\": \"INFORMACION Y NUEVAS RECLAMACIONES\"}], \"parentHash\": null, \"txnCount\": 1, \"blockNumber\": 0}}\n"
     ]
    }
   ],
   "source": [
    "print (genesisBlockStr1)"
   ]
  },
  {
   "cell_type": "code",
   "execution_count": 27,
   "metadata": {
    "collapsed": false
   },
   "outputs": [
    {
     "name": "stdout",
     "output_type": "stream",
     "text": [
      "[{u'Canal': 'Presencial', u'OficinaCita': 'OMIC MORATALAZ', u'DetalleCanal': 'OAC VILLA DE VALLECA', u'FechaAtt': '26/09/2017', u'Atendida': 'Si', u'FechaConcer': '21/09/2017', u'Tarea': 'INFORMACION Y NUEVAS RECLAMACIONES'}]\n"
     ]
    }
   ],
   "source": [
    "print (genesisBlockTxns)"
   ]
  },
  {
   "cell_type": "code",
   "execution_count": 28,
   "metadata": {
    "collapsed": false
   },
   "outputs": [
    {
     "name": "stdout",
     "output_type": "stream",
     "text": [
      "{u'Canal': 'Presencial', u'OficinaCita': 'OMIC MORATALAZ', u'DetalleCanal': 'OAC VILLA DE VALLECA', u'FechaAtt': '26/09/2017', u'Atendida': 'Si', u'FechaConcer': '21/09/2017', u'Tarea': 'INFORMACION Y NUEVAS RECLAMACIONES'}\n"
     ]
    }
   ],
   "source": [
    "print (state)"
   ]
  },
  {
   "cell_type": "code",
   "execution_count": 29,
   "metadata": {
    "collapsed": false
   },
   "outputs": [
    {
     "name": "stdout",
     "output_type": "stream",
     "text": [
      "d5dc13b6c9658c60b67efcebf54eb2a7a896f5e69532774d8fd6da91c70b9aab\n"
     ]
    }
   ],
   "source": [
    "print (genesisHash)"
   ]
  },
  {
   "cell_type": "code",
   "execution_count": 30,
   "metadata": {
    "collapsed": false
   },
   "outputs": [
    {
     "name": "stdout",
     "output_type": "stream",
     "text": [
      "{u'txns': [{u'Canal': 'Presencial', u'OficinaCita': 'OMIC MORATALAZ', u'DetalleCanal': 'OAC VILLA DE VALLECA', u'FechaAtt': '26/09/2017', u'Atendida': 'Si', u'FechaConcer': '21/09/2017', u'Tarea': 'INFORMACION Y NUEVAS RECLAMACIONES'}], u'parentHash': None, u'txnCount': 1, u'blockNumber': 0}\n"
     ]
    }
   ],
   "source": [
    "print (genesisBlockContents)"
   ]
  },
  {
   "cell_type": "markdown",
   "metadata": {},
   "source": [
    "### EL CODIGO A CONTINUACION ES EL BUCLE QUE GENERA EL BLOQUE GENESIS"
   ]
  },
  {
   "cell_type": "code",
   "execution_count": 31,
   "metadata": {
    "collapsed": true
   },
   "outputs": [],
   "source": [
    "def makeBlock(txns,chain):\n",
    "    parentBlock = chain[-1]\n",
    "    parentHash  = parentBlock[u'hash']\n",
    "    blockNumber = parentBlock[u'contents'][u'blockNumber'] + 1\n",
    "    txnCount    = len(txns)\n",
    "    blockContents = {u'blockNumber':blockNumber,u'parentHash':parentHash,\n",
    "                     u'txnCount':len(txns),'txns':txns}\n",
    "    blockHash = hashMe( blockContents )\n",
    "    block = {u'hash':blockHash,u'contents':blockContents}\n",
    "    \n",
    "    return blockprint (genesisBlockContents)"
   ]
  },
  {
   "cell_type": "code",
   "execution_count": 32,
   "metadata": {
    "collapsed": false
   },
   "outputs": [
    {
     "name": "stdout",
     "output_type": "stream",
     "text": [
      "[{u'hash': u'd5dc13b6c9658c60b67efcebf54eb2a7a896f5e69532774d8fd6da91c70b9aab', u'contents': {u'txns': [{u'Canal': 'Presencial', u'OficinaCita': 'OMIC MORATALAZ', u'DetalleCanal': 'OAC VILLA DE VALLECA', u'FechaAtt': '26/09/2017', u'Atendida': 'Si', u'FechaConcer': '21/09/2017', u'Tarea': 'INFORMACION Y NUEVAS RECLAMACIONES'}], u'parentHash': None, u'txnCount': 1, u'blockNumber': 0}}]\n"
     ]
    }
   ],
   "source": [
    "print (chain)"
   ]
  },
  {
   "cell_type": "markdown",
   "metadata": {},
   "source": [
    "# REPASAR: LA VARIABLE TXNS (PUEDE SER) EL NÚMERO DE TRANSACCIONES"
   ]
  },
  {
   "cell_type": "code",
   "execution_count": 35,
   "metadata": {
    "collapsed": false
   },
   "outputs": [
    {
     "name": "stdout",
     "output_type": "stream",
     "text": [
      "1\n"
     ]
    }
   ],
   "source": [
    "txns = 1\n",
    "print (txns)"
   ]
  },
  {
   "cell_type": "code",
   "execution_count": 38,
   "metadata": {
    "collapsed": false
   },
   "outputs": [
    {
     "ename": "TypeError",
     "evalue": "object of type 'int' has no len()",
     "output_type": "error",
     "traceback": [
      "\u001b[1;31m---------------------------------------------------------------------------\u001b[0m",
      "\u001b[1;31mTypeError\u001b[0m                                 Traceback (most recent call last)",
      "\u001b[1;32m<ipython-input-38-12a47a69b747>\u001b[0m in \u001b[0;36m<module>\u001b[1;34m()\u001b[0m\n\u001b[1;32m----> 1\u001b[1;33m \u001b[0mmakeBlock\u001b[0m \u001b[1;33m(\u001b[0m\u001b[0mtxns\u001b[0m\u001b[1;33m,\u001b[0m \u001b[0mchain\u001b[0m\u001b[1;33m)\u001b[0m\u001b[1;33m\u001b[0m\u001b[0m\n\u001b[0m",
      "\u001b[1;32m<ipython-input-31-555e7b6a7f60>\u001b[0m in \u001b[0;36mmakeBlock\u001b[1;34m(txns, chain)\u001b[0m\n\u001b[0;32m      3\u001b[0m     \u001b[0mparentHash\u001b[0m  \u001b[1;33m=\u001b[0m \u001b[0mparentBlock\u001b[0m\u001b[1;33m[\u001b[0m\u001b[1;34mu'hash'\u001b[0m\u001b[1;33m]\u001b[0m\u001b[1;33m\u001b[0m\u001b[0m\n\u001b[0;32m      4\u001b[0m     \u001b[0mblockNumber\u001b[0m \u001b[1;33m=\u001b[0m \u001b[0mparentBlock\u001b[0m\u001b[1;33m[\u001b[0m\u001b[1;34mu'contents'\u001b[0m\u001b[1;33m]\u001b[0m\u001b[1;33m[\u001b[0m\u001b[1;34mu'blockNumber'\u001b[0m\u001b[1;33m]\u001b[0m \u001b[1;33m+\u001b[0m \u001b[1;36m1\u001b[0m\u001b[1;33m\u001b[0m\u001b[0m\n\u001b[1;32m----> 5\u001b[1;33m     \u001b[0mtxnCount\u001b[0m    \u001b[1;33m=\u001b[0m \u001b[0mlen\u001b[0m\u001b[1;33m(\u001b[0m\u001b[0mtxns\u001b[0m\u001b[1;33m)\u001b[0m\u001b[1;33m\u001b[0m\u001b[0m\n\u001b[0m\u001b[0;32m      6\u001b[0m     blockContents = {u'blockNumber':blockNumber,u'parentHash':parentHash,\n\u001b[0;32m      7\u001b[0m                      u'txnCount':len(txns),'txns':txns}\n",
      "\u001b[1;31mTypeError\u001b[0m: object of type 'int' has no len()"
     ]
    }
   ],
   "source": [
    "makeBlock (txns, chain)"
   ]
  },
  {
   "cell_type": "code",
   "execution_count": 39,
   "metadata": {
    "collapsed": false
   },
   "outputs": [
    {
     "ename": "NameError",
     "evalue": "name 'blockprint' is not defined",
     "output_type": "error",
     "traceback": [
      "\u001b[1;31m---------------------------------------------------------------------------\u001b[0m",
      "\u001b[1;31mNameError\u001b[0m                                 Traceback (most recent call last)",
      "\u001b[1;32m<ipython-input-39-a7bdbc03cf25>\u001b[0m in \u001b[0;36m<module>\u001b[1;34m()\u001b[0m\n\u001b[1;32m----> 1\u001b[1;33m \u001b[1;32mprint\u001b[0m \u001b[1;33m(\u001b[0m\u001b[0mblockprint\u001b[0m\u001b[1;33m)\u001b[0m\u001b[1;33m\u001b[0m\u001b[0m\n\u001b[0m",
      "\u001b[1;31mNameError\u001b[0m: name 'blockprint' is not defined"
     ]
    }
   ],
   "source": [
    "print (blockprint)"
   ]
  },
  {
   "cell_type": "code",
   "execution_count": 40,
   "metadata": {
    "collapsed": false
   },
   "outputs": [
    {
     "name": "stdout",
     "output_type": "stream",
     "text": [
      "1\n"
     ]
    }
   ],
   "source": [
    "print (txns)"
   ]
  },
  {
   "cell_type": "code",
   "execution_count": 41,
   "metadata": {
    "collapsed": false
   },
   "outputs": [
    {
     "name": "stdout",
     "output_type": "stream",
     "text": [
      "chain: \n",
      "parentBlock: \n"
     ]
    },
    {
     "data": {
      "text/plain": [
       "{u'contents': {u'blockNumber': 0,\n",
       "  u'parentHash': None,\n",
       "  u'txnCount': 1,\n",
       "  u'txns': [{u'Atendida': 'Si',\n",
       "    u'Canal': 'Presencial',\n",
       "    u'DetalleCanal': 'OAC VILLA DE VALLECA',\n",
       "    u'FechaAtt': '26/09/2017',\n",
       "    u'FechaConcer': '21/09/2017',\n",
       "    u'OficinaCita': 'OMIC MORATALAZ',\n",
       "    u'Tarea': 'INFORMACION Y NUEVAS RECLAMACIONES'}]},\n",
       " u'hash': u'd5dc13b6c9658c60b67efcebf54eb2a7a896f5e69532774d8fd6da91c70b9aab'}"
      ]
     },
     "execution_count": 41,
     "metadata": {},
     "output_type": "execute_result"
    }
   ],
   "source": [
    "print \"chain: \"; (chain)\n",
    "parentBlock = chain[-1]\n",
    "print \"parentBlock: \"; (parentBlock)"
   ]
  },
  {
   "cell_type": "markdown",
   "metadata": {},
   "source": [
    "### EL CODIGO A CONTINUACION ES LA RUTINA QUE GENERA EL BLOQUE"
   ]
  },
  {
   "cell_type": "code",
   "execution_count": 42,
   "metadata": {
    "collapsed": true
   },
   "outputs": [],
   "source": [
    "def makeBlock(txns,chain):\n",
    "    parentBlock = chain[-1]\n",
    "    parentHash  = parentBlock[u'hash']\n",
    "    blockNumber = parentBlock[u'contents'][u'blockNumber'] + 1\n",
    "    txnCount    = len(txns)\n",
    "    blockContents = {u'blockNumber':blockNumber,u'parentHash':parentHash,\n",
    "                     u'txnCount':len(txns),'txns':txns}\n",
    "    blockHash = hashMe( blockContents )\n",
    "    block = {u'hash':blockHash,u'contents':blockContents}\n",
    "    \n",
    "    return block"
   ]
  },
  {
   "cell_type": "markdown",
   "metadata": {},
   "source": [
    "### EL CODIGO A CONTINUACION  SON PRUEBAS DE IMPRESION DE DIVERSAS VARIABLES DEL BLOQUE"
   ]
  },
  {
   "cell_type": "code",
   "execution_count": 43,
   "metadata": {
    "collapsed": false
   },
   "outputs": [
    {
     "name": "stdout",
     "output_type": "stream",
     "text": [
      "1\n"
     ]
    }
   ],
   "source": [
    "blockNumber = parentBlock[u'contents'][u'blockNumber'] + 1\n",
    "print (blockNumber)\n",
    "# NO FUNCIONA, PORQUE NECESITA UN VALOR PARA txns\n",
    "# txnCount    = len(txns)\n",
    "# print (txnCount)"
   ]
  },
  {
   "cell_type": "markdown",
   "metadata": {},
   "source": [
    "### EL CODIGO A CONTINUACION  SON PRUEBAS DE ASIGNACION DE VALORES DE DIVERSAS VARIABLES DEL BLOQUE"
   ]
  },
  {
   "cell_type": "code",
   "execution_count": 44,
   "metadata": {
    "collapsed": false
   },
   "outputs": [
    {
     "name": "stdout",
     "output_type": "stream",
     "text": [
      "{'txns': 'hola', u'parentHash': u'd5dc13b6c9658c60b67efcebf54eb2a7a896f5e69532774d8fd6da91c70b9aab', u'txnCount': 4, u'blockNumber': 1}\n"
     ]
    }
   ],
   "source": [
    "txns = \"hola\" # le doy un valor para que no de error\n",
    "parentHash  = parentBlock[u'hash']\n",
    "blockContents = {u'blockNumber':blockNumber,u'parentHash':parentHash,\n",
    "                     u'txnCount':len(txns),'txns':txns}\n",
    "print (blockContents)"
   ]
  },
  {
   "cell_type": "markdown",
   "metadata": {
    "collapsed": true
   },
   "source": [
    "### A CONTINUACION EL CODIGO CON EL BUCLE WHILE PARA CONSTRUIR LOS BLOQUES\n",
    "USEMOS ESTE CODIGO PARA PROCESAR NUESTRO BUFFER DE TRANSACCIONES Y CREAR UN CONJUNTO DE TRANSACCIONES:\n",
    "    * LO DIVIDO EN VARIAS PARTES PARA HACER LAS PRUEBAS:\n"
   ]
  },
  {
   "cell_type": "code",
   "execution_count": 45,
   "metadata": {
    "collapsed": false
   },
   "outputs": [
    {
     "name": "stdout",
     "output_type": "stream",
     "text": [
      "txnBuffer: \n",
      "bufferStartSize: \n"
     ]
    },
    {
     "ename": "NameError",
     "evalue": "name 'bufferStartSize' is not defined",
     "output_type": "error",
     "traceback": [
      "\u001b[1;31m---------------------------------------------------------------------------\u001b[0m",
      "\u001b[1;31mNameError\u001b[0m                                 Traceback (most recent call last)",
      "\u001b[1;32m<ipython-input-45-bb56bcd9abf2>\u001b[0m in \u001b[0;36m<module>\u001b[1;34m()\u001b[0m\n\u001b[0;32m      1\u001b[0m \u001b[1;31m# IMPRESION DE PRUEBA DE ESTAS VARIABLES:\u001b[0m\u001b[1;33m\u001b[0m\u001b[1;33m\u001b[0m\u001b[0m\n\u001b[0;32m      2\u001b[0m \u001b[1;32mprint\u001b[0m \u001b[1;34m\"txnBuffer: \"\u001b[0m\u001b[1;33m;\u001b[0m \u001b[1;33m(\u001b[0m\u001b[0mtxnBuffer\u001b[0m\u001b[1;33m)\u001b[0m\u001b[1;33m\u001b[0m\u001b[0m\n\u001b[1;32m----> 3\u001b[1;33m \u001b[1;32mprint\u001b[0m \u001b[1;34m\"bufferStartSize: \"\u001b[0m\u001b[1;33m;\u001b[0m \u001b[1;33m(\u001b[0m\u001b[0mbufferStartSize\u001b[0m\u001b[1;33m)\u001b[0m\u001b[1;33m\u001b[0m\u001b[0m\n\u001b[0m\u001b[0;32m      4\u001b[0m \u001b[1;31m# ERROR: NameError: name 'bufferStartSize' is not defined\u001b[0m\u001b[1;33m\u001b[0m\u001b[1;33m\u001b[0m\u001b[0m\n",
      "\u001b[1;31mNameError\u001b[0m: name 'bufferStartSize' is not defined"
     ]
    }
   ],
   "source": [
    "# IMPRESION DE PRUEBA DE ESTAS VARIABLES:\n",
    "print \"txnBuffer: \"; (txnBuffer)\n",
    "print \"bufferStartSize: \"; (bufferStartSize)\n",
    "# ERROR: NameError: name 'bufferStartSize' is not defined"
   ]
  },
  {
   "cell_type": "code",
   "execution_count": 46,
   "metadata": {
    "collapsed": true
   },
   "outputs": [],
   "source": [
    "blockSizeLimit = 11  # Arbitrary number of transactions per block- \n",
    "                # this is chosen by the block miner, and can vary between blocks!\n",
    "                # CAMBIO POR UN NUMERO MAYOR PARA QUE HAYA MAS BLOQUES\n",
    "# INCLUYO TAMBIÉN VALORES FICTICIOS PARA LAS VARIABLES QUE SE GENERAN CUANDO SE COMPRUEBA LA VALIDEZ DE LAS TRANSACCIONES\n",
    "isValidTxn = True # Booleano\n",
    "validTxn = True # Booleano"
   ]
  },
  {
   "cell_type": "code",
   "execution_count": 47,
   "metadata": {
    "collapsed": false
   },
   "outputs": [
    {
     "name": "stdout",
     "output_type": "stream",
     "text": [
      "txnBuffer: \n",
      "bufferStartSize: \n"
     ]
    }
   ],
   "source": [
    "while len(txnBuffer) > 0:\n",
    "    bufferStartSize = len(txnBuffer)\n",
    "    # IMPRESION DE PRUEBA DE ESTAS VARIABLES:\n",
    "    print \"txnBuffer: \"; (txnBuffer)\n",
    "    print \"bufferStartSize: \"; (bufferStartSize)\n",
    "    \n",
    "    ## Gather a set of valid transactions for inclusion\n",
    "    txnList = []\n",
    "    # ESTE ES EL BUCLE INTERNO\n",
    "    while (len(txnBuffer) > 0) & (len(txnList) < blockSizeLimit):\n",
    "        newTxn = txnBuffer.pop()\n",
    "        # ANULO LA COMPROBACION DE INVALIDEZ\n",
    "        # validTxn = isValidTxn(newTxn,state) # This will return False if txn is invalid\n",
    "        validTxn = True\n",
    "        \n",
    "        if validTxn:           # If we got a valid state, not 'False'\n",
    "            txnList.append(newTxn)\n",
    "            state = updateState(newTxn,state)\n",
    "        else:\n",
    "            print(\"ignored transaction\")\n",
    "            sys.stdout.flush()\n",
    "            continue  # This was an invalid transaction; ignore it and move on\n",
    "        \n",
    "    ## Make a block\n",
    "    myBlock = makeBlock(txnList,chain)\n",
    "    chain.append(myBlock)    "
   ]
  },
  {
   "cell_type": "code",
   "execution_count": 48,
   "metadata": {
    "collapsed": false
   },
   "outputs": [
    {
     "name": "stdout",
     "output_type": "stream",
     "text": [
      "myBlock: {u'hash': u'6b43a55115cb29dcde2d6af7a8bac3a805ec007a59efb4db1c299fc0ed0999f1', u'contents': {'txns': [{u'Canal': 'Presencial', u'OficinaCita': 'OMIC MORATALAZ', u'DetalleCanal': 'OAC VILLA DE VALLECA', u'FechaAtt': '26/09/2017', u'Atendida': 'Si', u'FechaConcer': '21/09/2017', u'Tarea': 'INFORMACION Y NUEVAS RECLAMACIONES'}, {u'Canal': 'Presencial', u'OficinaCita': 'OMIC MORATALAZ', u'DetalleCanal': 'OAC VILLA DE VALLECA', u'FechaAtt': '26/09/2017', u'Atendida': 'Si', u'FechaConcer': '21/09/2017', u'Tarea': 'INFORMACION Y NUEVAS RECLAMACIONES'}, {u'Canal': 'Presencial', u'OficinaCita': 'OMIC MORATALAZ', u'DetalleCanal': 'OAC VILLA DE VALLECA', u'FechaAtt': '26/09/2017', u'Atendida': 'Si', u'FechaConcer': '21/09/2017', u'Tarea': 'INFORMACION Y NUEVAS RECLAMACIONES'}, {u'Canal': 'Presencial', u'OficinaCita': 'OMIC MORATALAZ', u'DetalleCanal': 'OAC VILLA DE VALLECA', u'FechaAtt': '26/09/2017', u'Atendida': 'Si', u'FechaConcer': '21/09/2017', u'Tarea': 'INFORMACION Y NUEVAS RECLAMACIONES'}, {u'Canal': 'Presencial', u'OficinaCita': 'OMIC MORATALAZ', u'DetalleCanal': 'OAC VILLA DE VALLECA', u'FechaAtt': '26/09/2017', u'Atendida': 'Si', u'FechaConcer': '21/09/2017', u'Tarea': 'INFORMACION Y NUEVAS RECLAMACIONES'}, {u'Canal': 'Presencial', u'OficinaCita': 'OMIC MORATALAZ', u'DetalleCanal': 'OAC VILLA DE VALLECA', u'FechaAtt': '26/09/2017', u'Atendida': 'Si', u'FechaConcer': '21/09/2017', u'Tarea': 'INFORMACION Y NUEVAS RECLAMACIONES'}, {u'Canal': 'Presencial', u'OficinaCita': 'OMIC MORATALAZ', u'DetalleCanal': 'OAC VILLA DE VALLECA', u'FechaAtt': '26/09/2017', u'Atendida': 'Si', u'FechaConcer': '21/09/2017', u'Tarea': 'INFORMACION Y NUEVAS RECLAMACIONES'}, {u'Canal': 'Presencial', u'OficinaCita': 'OMIC MORATALAZ', u'DetalleCanal': 'OAC VILLA DE VALLECA', u'FechaAtt': '26/09/2017', u'Atendida': 'Si', u'FechaConcer': '21/09/2017', u'Tarea': 'INFORMACION Y NUEVAS RECLAMACIONES'}, {u'Canal': 'Presencial', u'OficinaCita': 'OMIC MORATALAZ', u'DetalleCanal': 'OAC VILLA DE VALLECA', u'FechaAtt': '26/09/2017', u'Atendida': 'Si', u'FechaConcer': '21/09/2017', u'Tarea': 'INFORMACION Y NUEVAS RECLAMACIONES'}, {u'Canal': 'Presencial', u'OficinaCita': 'OMIC MORATALAZ', u'DetalleCanal': 'OAC VILLA DE VALLECA', u'FechaAtt': '26/09/2017', u'Atendida': 'Si', u'FechaConcer': '21/09/2017', u'Tarea': 'INFORMACION Y NUEVAS RECLAMACIONES'}], u'parentHash': u'd5dc13b6c9658c60b67efcebf54eb2a7a896f5e69532774d8fd6da91c70b9aab', u'txnCount': 10, u'blockNumber': 1}}\n"
     ]
    }
   ],
   "source": [
    "print \"myBlock:\", (myBlock)"
   ]
  },
  {
   "cell_type": "code",
   "execution_count": 49,
   "metadata": {
    "collapsed": false
   },
   "outputs": [
    {
     "name": "stdout",
     "output_type": "stream",
     "text": [
      "len(txnBuffer): 0\n"
     ]
    }
   ],
   "source": [
    "print \"len(txnBuffer):\", len(txnBuffer)"
   ]
  },
  {
   "cell_type": "code",
   "execution_count": 50,
   "metadata": {
    "collapsed": false
   },
   "outputs": [
    {
     "name": "stdout",
     "output_type": "stream",
     "text": [
      "len(txnBuffer): 0\n",
      "txnBuffer: []\n",
      "\n",
      "txnList: [{u'Canal': 'Presencial', u'OficinaCita': 'OMIC MORATALAZ', u'DetalleCanal': 'OAC VILLA DE VALLECA', u'FechaAtt': '26/09/2017', u'Atendida': 'Si', u'FechaConcer': '21/09/2017', u'Tarea': 'INFORMACION Y NUEVAS RECLAMACIONES'}, {u'Canal': 'Presencial', u'OficinaCita': 'OMIC MORATALAZ', u'DetalleCanal': 'OAC VILLA DE VALLECA', u'FechaAtt': '26/09/2017', u'Atendida': 'Si', u'FechaConcer': '21/09/2017', u'Tarea': 'INFORMACION Y NUEVAS RECLAMACIONES'}, {u'Canal': 'Presencial', u'OficinaCita': 'OMIC MORATALAZ', u'DetalleCanal': 'OAC VILLA DE VALLECA', u'FechaAtt': '26/09/2017', u'Atendida': 'Si', u'FechaConcer': '21/09/2017', u'Tarea': 'INFORMACION Y NUEVAS RECLAMACIONES'}, {u'Canal': 'Presencial', u'OficinaCita': 'OMIC MORATALAZ', u'DetalleCanal': 'OAC VILLA DE VALLECA', u'FechaAtt': '26/09/2017', u'Atendida': 'Si', u'FechaConcer': '21/09/2017', u'Tarea': 'INFORMACION Y NUEVAS RECLAMACIONES'}, {u'Canal': 'Presencial', u'OficinaCita': 'OMIC MORATALAZ', u'DetalleCanal': 'OAC VILLA DE VALLECA', u'FechaAtt': '26/09/2017', u'Atendida': 'Si', u'FechaConcer': '21/09/2017', u'Tarea': 'INFORMACION Y NUEVAS RECLAMACIONES'}, {u'Canal': 'Presencial', u'OficinaCita': 'OMIC MORATALAZ', u'DetalleCanal': 'OAC VILLA DE VALLECA', u'FechaAtt': '26/09/2017', u'Atendida': 'Si', u'FechaConcer': '21/09/2017', u'Tarea': 'INFORMACION Y NUEVAS RECLAMACIONES'}, {u'Canal': 'Presencial', u'OficinaCita': 'OMIC MORATALAZ', u'DetalleCanal': 'OAC VILLA DE VALLECA', u'FechaAtt': '26/09/2017', u'Atendida': 'Si', u'FechaConcer': '21/09/2017', u'Tarea': 'INFORMACION Y NUEVAS RECLAMACIONES'}, {u'Canal': 'Presencial', u'OficinaCita': 'OMIC MORATALAZ', u'DetalleCanal': 'OAC VILLA DE VALLECA', u'FechaAtt': '26/09/2017', u'Atendida': 'Si', u'FechaConcer': '21/09/2017', u'Tarea': 'INFORMACION Y NUEVAS RECLAMACIONES'}, {u'Canal': 'Presencial', u'OficinaCita': 'OMIC MORATALAZ', u'DetalleCanal': 'OAC VILLA DE VALLECA', u'FechaAtt': '26/09/2017', u'Atendida': 'Si', u'FechaConcer': '21/09/2017', u'Tarea': 'INFORMACION Y NUEVAS RECLAMACIONES'}, {u'Canal': 'Presencial', u'OficinaCita': 'OMIC MORATALAZ', u'DetalleCanal': 'OAC VILLA DE VALLECA', u'FechaAtt': '26/09/2017', u'Atendida': 'Si', u'FechaConcer': '21/09/2017', u'Tarea': 'INFORMACION Y NUEVAS RECLAMACIONES'}]\n",
      "\n",
      "newTxn: {u'Canal': 'Presencial', u'OficinaCita': 'OMIC MORATALAZ', u'DetalleCanal': 'OAC VILLA DE VALLECA', u'FechaAtt': '26/09/2017', u'Atendida': 'Si', u'FechaConcer': '21/09/2017', u'Tarea': 'INFORMACION Y NUEVAS RECLAMACIONES'}\n",
      "\n",
      "isValidTxn: True\n",
      "validTxn: True\n",
      "\n",
      "newTxn: {u'Canal': 'Presencial', u'OficinaCita': 'OMIC MORATALAZ', u'DetalleCanal': 'OAC VILLA DE VALLECA', u'FechaAtt': '26/09/2017', u'Atendida': 'Si', u'FechaConcer': '21/09/2017', u'Tarea': 'INFORMACION Y NUEVAS RECLAMACIONES'}\n",
      "\n",
      "state: {u'Canal': 'PresencialPresencialPresencialPresencialPresencialPresencialPresencialPresencialPresencialPresencialPresencial', u'FechaConcer': '21/09/201721/09/201721/09/201721/09/201721/09/201721/09/201721/09/201721/09/201721/09/201721/09/201721/09/2017', u'OficinaCita': 'OMIC MORATALAZOMIC MORATALAZOMIC MORATALAZOMIC MORATALAZOMIC MORATALAZOMIC MORATALAZOMIC MORATALAZOMIC MORATALAZOMIC MORATALAZOMIC MORATALAZOMIC MORATALAZ', u'DetalleCanal': 'OAC VILLA DE VALLECAOAC VILLA DE VALLECAOAC VILLA DE VALLECAOAC VILLA DE VALLECAOAC VILLA DE VALLECAOAC VILLA DE VALLECAOAC VILLA DE VALLECAOAC VILLA DE VALLECAOAC VILLA DE VALLECAOAC VILLA DE VALLECAOAC VILLA DE VALLECA', u'FechaAtt': '26/09/201726/09/201726/09/201726/09/201726/09/201726/09/201726/09/201726/09/201726/09/201726/09/201726/09/2017', u'Tarea': 'INFORMACION Y NUEVAS RECLAMACIONESINFORMACION Y NUEVAS RECLAMACIONESINFORMACION Y NUEVAS RECLAMACIONESINFORMACION Y NUEVAS RECLAMACIONESINFORMACION Y NUEVAS RECLAMACIONESINFORMACION Y NUEVAS RECLAMACIONESINFORMACION Y NUEVAS RECLAMACIONESINFORMACION Y NUEVAS RECLAMACIONESINFORMACION Y NUEVAS RECLAMACIONESINFORMACION Y NUEVAS RECLAMACIONESINFORMACION Y NUEVAS RECLAMACIONES', u'Atendida': 'SiSiSiSiSiSiSiSiSiSiSi'}\n"
     ]
    }
   ],
   "source": [
    "print \"len(txnBuffer):\", len(txnBuffer)\n",
    "print \"txnBuffer:\", txnBuffer\n",
    "print\n",
    "print \"txnList:\", txnList\n",
    "print\n",
    "print \"newTxn:\", newTxn\n",
    "print\n",
    "print \"isValidTxn:\", isValidTxn\n",
    "print \"validTxn:\", validTxn\n",
    "print\n",
    "print \"newTxn:\", newTxn\n",
    "print\n",
    "print \"state:\", state\n",
    "\n"
   ]
  },
  {
   "cell_type": "markdown",
   "metadata": {},
   "source": [
    "#### COMENTARIOS DEL CODIGO ANTERIOR:\n",
    "* = 5 NUMERO ARBITRARIO DE TRANSACCIONES POR BLOQUE\n",
    "* ESTE VALOR LO ESCOJE EL MINERO DE BLOQUES Y PUEDE VARIAR ENTRE BLOQUES\n",
    "* SE REUNEN UN CONJUNTO DE TRANSACCIONES PARA SU INCLUSION\n",
    "* ESTA LINEA DEVUELVE FALSO SI txn ES INVALIDO\n",
    "* SI CONSEGUIMOS UN ESTADO VALIDO, DISTINTO DE FALSO\n",
    "* ES UNA TRANSACCION INVALIDA, IGNORALA Y SIGUE\n",
    "* CONSTRUYE UN BLOQUE\n"
   ]
  },
  {
   "cell_type": "markdown",
   "metadata": {},
   "source": [
    "#### A CONTINUACION, IMPRIMIMOS BLOQUES DE LA CADENA POR SEPARADO, SEGÚN SU NÚMERO DE ORDEN"
   ]
  },
  {
   "cell_type": "code",
   "execution_count": 51,
   "metadata": {
    "collapsed": false
   },
   "outputs": [
    {
     "data": {
      "text/plain": [
       "{u'contents': {u'blockNumber': 0,\n",
       "  u'parentHash': None,\n",
       "  u'txnCount': 1,\n",
       "  u'txns': [{u'Atendida': 'Si',\n",
       "    u'Canal': 'Presencial',\n",
       "    u'DetalleCanal': 'OAC VILLA DE VALLECA',\n",
       "    u'FechaAtt': '26/09/2017',\n",
       "    u'FechaConcer': '21/09/2017',\n",
       "    u'OficinaCita': 'OMIC MORATALAZ',\n",
       "    u'Tarea': 'INFORMACION Y NUEVAS RECLAMACIONES'}]},\n",
       " u'hash': u'd5dc13b6c9658c60b67efcebf54eb2a7a896f5e69532774d8fd6da91c70b9aab'}"
      ]
     },
     "execution_count": 51,
     "metadata": {},
     "output_type": "execute_result"
    }
   ],
   "source": [
    "chain[0]"
   ]
  },
  {
   "cell_type": "code",
   "execution_count": 52,
   "metadata": {
    "collapsed": false
   },
   "outputs": [
    {
     "data": {
      "text/plain": [
       "{u'contents': {u'blockNumber': 1,\n",
       "  u'parentHash': u'd5dc13b6c9658c60b67efcebf54eb2a7a896f5e69532774d8fd6da91c70b9aab',\n",
       "  u'txnCount': 10,\n",
       "  'txns': [{u'Atendida': 'Si',\n",
       "    u'Canal': 'Presencial',\n",
       "    u'DetalleCanal': 'OAC VILLA DE VALLECA',\n",
       "    u'FechaAtt': '26/09/2017',\n",
       "    u'FechaConcer': '21/09/2017',\n",
       "    u'OficinaCita': 'OMIC MORATALAZ',\n",
       "    u'Tarea': 'INFORMACION Y NUEVAS RECLAMACIONES'},\n",
       "   {u'Atendida': 'Si',\n",
       "    u'Canal': 'Presencial',\n",
       "    u'DetalleCanal': 'OAC VILLA DE VALLECA',\n",
       "    u'FechaAtt': '26/09/2017',\n",
       "    u'FechaConcer': '21/09/2017',\n",
       "    u'OficinaCita': 'OMIC MORATALAZ',\n",
       "    u'Tarea': 'INFORMACION Y NUEVAS RECLAMACIONES'},\n",
       "   {u'Atendida': 'Si',\n",
       "    u'Canal': 'Presencial',\n",
       "    u'DetalleCanal': 'OAC VILLA DE VALLECA',\n",
       "    u'FechaAtt': '26/09/2017',\n",
       "    u'FechaConcer': '21/09/2017',\n",
       "    u'OficinaCita': 'OMIC MORATALAZ',\n",
       "    u'Tarea': 'INFORMACION Y NUEVAS RECLAMACIONES'},\n",
       "   {u'Atendida': 'Si',\n",
       "    u'Canal': 'Presencial',\n",
       "    u'DetalleCanal': 'OAC VILLA DE VALLECA',\n",
       "    u'FechaAtt': '26/09/2017',\n",
       "    u'FechaConcer': '21/09/2017',\n",
       "    u'OficinaCita': 'OMIC MORATALAZ',\n",
       "    u'Tarea': 'INFORMACION Y NUEVAS RECLAMACIONES'},\n",
       "   {u'Atendida': 'Si',\n",
       "    u'Canal': 'Presencial',\n",
       "    u'DetalleCanal': 'OAC VILLA DE VALLECA',\n",
       "    u'FechaAtt': '26/09/2017',\n",
       "    u'FechaConcer': '21/09/2017',\n",
       "    u'OficinaCita': 'OMIC MORATALAZ',\n",
       "    u'Tarea': 'INFORMACION Y NUEVAS RECLAMACIONES'},\n",
       "   {u'Atendida': 'Si',\n",
       "    u'Canal': 'Presencial',\n",
       "    u'DetalleCanal': 'OAC VILLA DE VALLECA',\n",
       "    u'FechaAtt': '26/09/2017',\n",
       "    u'FechaConcer': '21/09/2017',\n",
       "    u'OficinaCita': 'OMIC MORATALAZ',\n",
       "    u'Tarea': 'INFORMACION Y NUEVAS RECLAMACIONES'},\n",
       "   {u'Atendida': 'Si',\n",
       "    u'Canal': 'Presencial',\n",
       "    u'DetalleCanal': 'OAC VILLA DE VALLECA',\n",
       "    u'FechaAtt': '26/09/2017',\n",
       "    u'FechaConcer': '21/09/2017',\n",
       "    u'OficinaCita': 'OMIC MORATALAZ',\n",
       "    u'Tarea': 'INFORMACION Y NUEVAS RECLAMACIONES'},\n",
       "   {u'Atendida': 'Si',\n",
       "    u'Canal': 'Presencial',\n",
       "    u'DetalleCanal': 'OAC VILLA DE VALLECA',\n",
       "    u'FechaAtt': '26/09/2017',\n",
       "    u'FechaConcer': '21/09/2017',\n",
       "    u'OficinaCita': 'OMIC MORATALAZ',\n",
       "    u'Tarea': 'INFORMACION Y NUEVAS RECLAMACIONES'},\n",
       "   {u'Atendida': 'Si',\n",
       "    u'Canal': 'Presencial',\n",
       "    u'DetalleCanal': 'OAC VILLA DE VALLECA',\n",
       "    u'FechaAtt': '26/09/2017',\n",
       "    u'FechaConcer': '21/09/2017',\n",
       "    u'OficinaCita': 'OMIC MORATALAZ',\n",
       "    u'Tarea': 'INFORMACION Y NUEVAS RECLAMACIONES'},\n",
       "   {u'Atendida': 'Si',\n",
       "    u'Canal': 'Presencial',\n",
       "    u'DetalleCanal': 'OAC VILLA DE VALLECA',\n",
       "    u'FechaAtt': '26/09/2017',\n",
       "    u'FechaConcer': '21/09/2017',\n",
       "    u'OficinaCita': 'OMIC MORATALAZ',\n",
       "    u'Tarea': 'INFORMACION Y NUEVAS RECLAMACIONES'}]},\n",
       " u'hash': u'6b43a55115cb29dcde2d6af7a8bac3a805ec007a59efb4db1c299fc0ed0999f1'}"
      ]
     },
     "execution_count": 52,
     "metadata": {},
     "output_type": "execute_result"
    }
   ],
   "source": [
    "chain[1]"
   ]
  },
  {
   "cell_type": "markdown",
   "metadata": {},
   "source": [
    "ESTE BLOQUE DE CODIGO LO HE AÑADIDO YO Y FUNCIONA CORRECTAMENTE:\n",
    "* EL RANGO ES DESDE 0 HASTA 7, OCHO BLOQUES EN TOTAL\n",
    "    * COINCIDE CON EL VALOR OBTENIDO EN LA PARTE FINAL:\n",
    "    Blockchain on Node A is currently 7 blocks long\n",
    "    New Block Received; checking validity...\n",
    "    Blockchain on Node A is now 8 blocks long\n",
    "    * PERO SI SIGO EJECUTANDO EL CODIGO, SE GENERA UN NUEVO BLOQUE...\n",
    "    \n",
    "* SI EJECUTO LA ORDEN: chain[8], DA ESTE RESULTADO:\n",
    "---------------------------------------------------------------------------\n",
    "IndexError                                Traceback (most recent call last)\n",
    "<ipython-input-33-208206dd3087> in <module>()\n",
    "----> 1 chain[8]\n",
    "\n",
    "IndexError: list index out of range\n"
   ]
  },
  {
   "cell_type": "code",
   "execution_count": 53,
   "metadata": {
    "collapsed": false
   },
   "outputs": [
    {
     "ename": "IndexError",
     "evalue": "list index out of range",
     "output_type": "error",
     "traceback": [
      "\u001b[1;31m---------------------------------------------------------------------------\u001b[0m",
      "\u001b[1;31mIndexError\u001b[0m                                Traceback (most recent call last)",
      "\u001b[1;32m<ipython-input-53-e944d31b458c>\u001b[0m in \u001b[0;36m<module>\u001b[1;34m()\u001b[0m\n\u001b[1;32m----> 1\u001b[1;33m \u001b[0mchain\u001b[0m\u001b[1;33m[\u001b[0m\u001b[1;36m2\u001b[0m\u001b[1;33m]\u001b[0m\u001b[1;33m\u001b[0m\u001b[0m\n\u001b[0m",
      "\u001b[1;31mIndexError\u001b[0m: list index out of range"
     ]
    }
   ],
   "source": [
    "chain[2]"
   ]
  },
  {
   "cell_type": "code",
   "execution_count": 64,
   "metadata": {
    "collapsed": false
   },
   "outputs": [
    {
     "ename": "IndexError",
     "evalue": "list index out of range",
     "output_type": "error",
     "traceback": [
      "\u001b[1;31m---------------------------------------------------------------------------\u001b[0m",
      "\u001b[1;31mIndexError\u001b[0m                                Traceback (most recent call last)",
      "\u001b[1;32m<ipython-input-64-3c6b96af144a>\u001b[0m in \u001b[0;36m<module>\u001b[1;34m()\u001b[0m\n\u001b[1;32m----> 1\u001b[1;33m \u001b[0mchain\u001b[0m\u001b[1;33m[\u001b[0m\u001b[1;36m3\u001b[0m\u001b[1;33m]\u001b[0m\u001b[1;33m\u001b[0m\u001b[0m\n\u001b[0m",
      "\u001b[1;31mIndexError\u001b[0m: list index out of range"
     ]
    }
   ],
   "source": [
    "chain[3]"
   ]
  },
  {
   "cell_type": "markdown",
   "metadata": {},
   "source": [
    "COMO SE ESPERABA, EL BLOQUE GENESIS INCLUYE UNA TRANSACCION INVALIDA QUE INICIA LOS BALANCES DE CUENTAS (CREA TOKENS DE LA NADA). EL HASH DE LOS BLOQUES PRECEDENTES SE REFLEJA EN EL BLOQUE HIJO, QUE CONTIENE UN CONJUNTO DE NUEVAS TRANSACCIONES QUE AFECTAN AL ESTADO DEL SISTEMA. PODEMOS VER AHORA EL ESTADO DEL SISTEMA, ACTUALIZADO PARA INCLUIR LAS TRANSACCIONES."
   ]
  },
  {
   "cell_type": "code",
   "execution_count": 54,
   "metadata": {
    "collapsed": false
   },
   "outputs": [
    {
     "data": {
      "text/plain": [
       "{u'Atendida': 'SiSiSiSiSiSiSiSiSiSiSi',\n",
       " u'Canal': 'PresencialPresencialPresencialPresencialPresencialPresencialPresencialPresencialPresencialPresencialPresencial',\n",
       " u'DetalleCanal': 'OAC VILLA DE VALLECAOAC VILLA DE VALLECAOAC VILLA DE VALLECAOAC VILLA DE VALLECAOAC VILLA DE VALLECAOAC VILLA DE VALLECAOAC VILLA DE VALLECAOAC VILLA DE VALLECAOAC VILLA DE VALLECAOAC VILLA DE VALLECAOAC VILLA DE VALLECA',\n",
       " u'FechaAtt': '26/09/201726/09/201726/09/201726/09/201726/09/201726/09/201726/09/201726/09/201726/09/201726/09/201726/09/2017',\n",
       " u'FechaConcer': '21/09/201721/09/201721/09/201721/09/201721/09/201721/09/201721/09/201721/09/201721/09/201721/09/201721/09/2017',\n",
       " u'OficinaCita': 'OMIC MORATALAZOMIC MORATALAZOMIC MORATALAZOMIC MORATALAZOMIC MORATALAZOMIC MORATALAZOMIC MORATALAZOMIC MORATALAZOMIC MORATALAZOMIC MORATALAZOMIC MORATALAZ',\n",
       " u'Tarea': 'INFORMACION Y NUEVAS RECLAMACIONESINFORMACION Y NUEVAS RECLAMACIONESINFORMACION Y NUEVAS RECLAMACIONESINFORMACION Y NUEVAS RECLAMACIONESINFORMACION Y NUEVAS RECLAMACIONESINFORMACION Y NUEVAS RECLAMACIONESINFORMACION Y NUEVAS RECLAMACIONESINFORMACION Y NUEVAS RECLAMACIONESINFORMACION Y NUEVAS RECLAMACIONESINFORMACION Y NUEVAS RECLAMACIONESINFORMACION Y NUEVAS RECLAMACIONES'}"
      ]
     },
     "execution_count": 54,
     "metadata": {},
     "output_type": "execute_result"
    }
   ],
   "source": [
    "state"
   ]
  },
  {
   "cell_type": "markdown",
   "metadata": {},
   "source": [
    "## COMPROBANDO LA VALIDEZ DE LA CADENA\n",
    "-------------------------------------\n",
    "AHORA QUE CONOCEMOS COMO CREAR NUEVOS BLOQUES Y COMO ENLAZARLOS ENTRE SI FORMANDO UNA CADENA, DEFINAMOS FUNCIONES PARA COMPROBAR QUE LOS NUEVOS BLOQUES SON VALIDOS Y QUE EL TOTAL DE LA CADENA TAMBIEN ES VALIDO.\n",
    "\n",
    "EN UNA RED BLOCKCHAIN ESTO SE CONVIERTE EN ALGO IMPORTANTE, EN DOS ASPECTOS:\n",
    "* CUANDO INICIALMENTE PONEMOS EN MARCHA NUESTRO NODO, DESCARGAREMOS LA HISTORIA COMPLETA DEL BLOCKCHAIN. DESPUES DE DESCARGAR LA CADENA, PODEMOS NECESITAR EJECUTAR TODO EL BLOCKCHAIN PARA CALCULAR EL ESTADO DEL SISTEMA. PARA PROTEGERNOS DE QUE ALGUIEN INSERTE TRANSACCIONES INVALIDAS EN LA CADENA INICIAL, NECESITAMOS CHEQUEAR LA VALIDEZ DE TODA LA CADENA TRAS SU DESCARGA INICIAL.\n",
    "* UNA VEZ QUE NUESTRO NODO ESTÁ SINCRONIZADO CON LA RED (YIENE UNA COPIA ACTUALIZADA DEL BLOCKCHAIN Y UNA REPRESENTACION DEL ESTADO DEL SISTEMA) NECESITARÁ CHEQUEAR LA VALIDEZ DE LOS NUEVOS BLOQUES QUE SE DIFUNDIRAN A LA RED.\n",
    "\n",
    "NECESITAREMOS 3 FUNCIONES PARA FACILITAR TODO ESTO:\n",
    "\n",
    "* **checkBlockHash**: UNA FUNCION DE AYUDA SIMPLE QUE ASEGURA QUE EL CONTENIDO COINCIDE CON EL HASH\n",
    "* **checkBlockValidity**: COMPRUEBA LA VALIDEZ DE UN BLOQUE, DANDO SU PREDECESOR Y EL ESTADO ACTUAL DEL SISTEMA. QUEREMOS QUE DEVUELVA EL ESTADO ACTUALIZADO SI EL BLOQUE ES VALIDO Y QUE GENERE UN ERROR EN CASO CONTRARIO.\n",
    "* **checkChain**: COMPRUEBA LA VALIDEZ DE TODA LA CADENA Y CALCULA EL ESTADO INICIAL DEL SISTEMA EN EL BLOQUE GENESIS. ESTO DEVOLVERA ES ESTADO DEL SISTEMA , SI ES VALIDO Y QUE GENERA UN ERROR EN CASO CONTRARIO."
   ]
  },
  {
   "cell_type": "code",
   "execution_count": 41,
   "metadata": {
    "collapsed": true
   },
   "outputs": [],
   "source": [
    "def checkBlockHash(block):\n",
    "    # Raise an exception if the hash does not match the block contents\n",
    "    expectedHash = hashMe( block['contents'] )\n",
    "    if block['hash']!=expectedHash:\n",
    "        raise Exception('Hash does not match contents of block %s'%\n",
    "                        block['contents']['blockNumber'])\n",
    "    return"
   ]
  },
  {
   "cell_type": "markdown",
   "metadata": {},
   "source": [
    "COMENTARIOS SOBRE LA FUNCION: checkBlockHash(block)\n",
    "* RECIBE UN BLOQUE Y LO GUARDA EN LA VARIABLE: block\n",
    "* COMPARA EL HASH QUE FIGURA EN EL BLOQUE CON EL HASH DEL BLOQUE QUE ELLA MISMA CALCULA\n",
    "* SI NO COINCIDEN, LANZA UNA EXCEPCION:\n",
    "\n",
    "'Hash does not match contents of block %s'%\n",
    "\n",
    "                        block['contents']['blockNumber']\n"
   ]
  },
  {
   "cell_type": "code",
   "execution_count": 42,
   "metadata": {
    "collapsed": false
   },
   "outputs": [],
   "source": [
    "def checkBlockValidity(block,parent,state):    \n",
    "    # We want to check the following conditions:\n",
    "    # - Each of the transactions are valid updates to the system state\n",
    "    # - Block hash is valid for the block contents\n",
    "    # - Block number increments the parent block number by 1\n",
    "    # - Accurately references the parent block's hash\n",
    "    parentNumber = parent['contents']['blockNumber']\n",
    "    parentHash   = parent['hash']\n",
    "    blockNumber  = block['contents']['blockNumber']\n",
    "    \n",
    "    # Check transaction validity; throw an error if an invalid transaction was found.\n",
    "    for txn in block['contents']['txns']:\n",
    "        if isValidTxn(txn,state):\n",
    "            state = updateState(txn,state)\n",
    "        else:\n",
    "            raise Exception('Invalid transaction in block %s: %s'%(blockNumber,txn))\n",
    "\n",
    "    checkBlockHash(block) # Check hash integrity; raises error if inaccurate\n",
    "\n",
    "    if blockNumber!=(parentNumber+1):\n",
    "        raise Exception('Hash does not match contents of block %s'%blockNumber)\n",
    "\n",
    "    if block['contents']['parentHash'] != parentHash:\n",
    "        raise Exception('Parent hash not accurate at block %s'%blockNumber)\n",
    "    \n",
    "    return state"
   ]
  },
  {
   "cell_type": "markdown",
   "metadata": {},
   "source": [
    "COMENTARIOS checkBlockValidity(block,parent,state):\n",
    "* QUEREMOS COMPROBAR LAS SIGUIENTES CONDICIONES:\n",
    "    * CADA TRANSACCION ES UNA ACTUALIZACION VALIDA AL ESTADO DEL SISTEMA\n",
    "    * EL HASH DEL BLOQUE ES VALIDO PARA EL CONTENIDO DEL BLOQUE\n",
    "    * EL NUMERO DE BLOQUE INCREMENTA EL NUMERO DEL BLOQUE PRECEDENTE (PARENT) EN UNO\n",
    "    * REFERENCIA EXACTAMENTE EL HASH DEL BLOQUE PRECEDENTE\n",
    "    \n",
    "* COMPRUEBA LA VALIDEZ DE LA TRANSACCION, LANZA UN ERROR SI ENCUENTRA UNA TRANSACCION INVALIDA\n",
    "\n",
    "* COMPRUEBA LA INTEGRIDAD DEL HASH; LANZA UN ERROR SI ES IVCORRECTO\n",
    "\n",
    "COMENTARIOS SOBRE LA FUNCION: checkBlockValidity(block,parent,state)\n",
    "* RECIBE UN BLOQUE, SU PARENT Y EL ESTADO\n",
    "* CALCULA Y GUARDA LAS VARIABLES: parentNumber, parentHash, blockNumber\n",
    "* COMPRUEBA LA VALIDEZ DE UNA TRANSACCION Y LANZA UNA EXCEPCION SI ES INVALIDA\n",
    "* TAMBIEN COMPRUEBA LA INTEGRIDAD DEL HASH\n",
    "* SI NO COINCIDEN, LANZA UNA EXCEPCION:\n",
    "    Exception('Invalid transaction in block %s: %s'%(blockNumber,txn))"
   ]
  },
  {
   "cell_type": "code",
   "execution_count": 121,
   "metadata": {
    "collapsed": true
   },
   "outputs": [],
   "source": [
    "def checkChain(chain):\n",
    "    # Work through the chain from the genesis block (which gets special treatment), \n",
    "    #  checking that all transactions are internally valid,\n",
    "    #    that the transactions do not cause an overdraft,\n",
    "    #    and that the blocks are linked by their hashes.\n",
    "    # This returns the state as a dictionary of accounts and balances,\n",
    "    #   or returns False if an error was detected\n",
    "\n",
    "    \n",
    "    ## Data input processing: Make sure that our chain is a list of dicts\n",
    "    if type(chain)==str:\n",
    "        try:\n",
    "            chain = json.loads(chain)\n",
    "            assert( type(chain)==list)\n",
    "        except:  # This is a catch-all, admittedly crude\n",
    "            return False\n",
    "    elif type(chain)!=list:\n",
    "        return False\n",
    "    \n",
    "    state = {}\n",
    "    ## Prime the pump by checking the genesis block\n",
    "    # We want to check the following conditions:\n",
    "    # - Each of the transactions are valid updates to the system state\n",
    "    # - Block hash is valid for the block contents\n",
    "\n",
    "    for txn in chain[0]['contents']['txns']:\n",
    "        state = updateState(txn,state)\n",
    "    checkBlockHash(chain[0])\n",
    "    parent = chain[0]\n",
    "    \n",
    "    ## Checking subsequent blocks: These additionally need to check\n",
    "    #    - the reference to the parent block's hash\n",
    "    #    - the validity of the block number\n",
    "    for block in chain[1:]:\n",
    "        state = checkBlockValidity(block,parent,state)\n",
    "        parent = block\n",
    "        \n",
    "    return state"
   ]
  },
  {
   "cell_type": "markdown",
   "metadata": {},
   "source": [
    "COMENTARIOS checkChain(chain):\n",
    "* RECORRE TODA LA CADEN DESDE EL BLOQUE GENESIS (QUE NECESITA DE UN TRATAMIENTO ESPECIAL),\n",
    "    * CHEQUEA QUE TODAS LAS TRANSACCIONES SEAN VÁLIDAS INTERNAMENTE\n",
    "        * QUE LAS TRANSACCIONES NO PROVOQUEN UN DESCUBIERTO\n",
    "        * Y QUE LOS RESPECTIVOS BLOQUES ESTAN ENLAZADOS POR SUS HASHES\n",
    "   * ESTO DEVUELVE UN ESTADO COMO UN DICCIONARIO DE CUENTAS Y BALANCES,\n",
    "    * O DEVUELVE FALSE SI SE DETECTA CUALQUIER ERROR\n",
    "    \n",
    "     * PROCESO DE ENTRADAD DE DATOS: SE ASEGURA DE QUE NUESTRA CADENA ES UNA LISTA DE DICTADOS (dicts)\n",
    "         * ESTO ES UN CAPTURA-TODO, VERDADERAMENTE CRUDO \n",
    " \n",
    "* PREPARA EL PROCESO CHEQUEANDO EL BLOQUE GENESIS\n",
    "* QUEREMOS CHEQUEAR LAS SIGUIENTES CONDICIONES:\n",
    "    * CADA UNA DE LAS TRANSACCIONES SON ACTUALIZACIONES VALIDAS AL ESTADO DEL SISTEMA\n",
    "    * EL HASH DEL BLOQUE ES VALIDO PARA EL CONTENIDO DEL BLOQUE\n",
    "    \n",
    "CHEQUE LOS BLOQUES SIGUIENTES: PARA ELLO ES NECESARIO CHEQUEAR ADEMAS:\n",
    "    * LA REFERENCIA AL HASH DE LOS BLOQUES QU LE PRECEDEN (PARENTS)\n",
    "    * LA VALIDEZ DEL Nº DE BLOQUE\n",
    "\n",
    "\n",
    "COMENTARIOS SOBRE LA FUNCION: checkChain(chain):\n",
    "RECIBE UN BLOQUE, SU PARENT Y EL ESTADO"
   ]
  },
  {
   "cell_type": "markdown",
   "metadata": {},
   "source": [
    "YA PODEMOS CHEQUEAR LA VALIDEZ DEL ESTADO"
   ]
  },
  {
   "cell_type": "code",
   "execution_count": 122,
   "metadata": {
    "collapsed": false
   },
   "outputs": [
    {
     "ename": "TypeError",
     "evalue": "'bool' object is not callable",
     "output_type": "error",
     "traceback": [
      "\u001b[1;31m---------------------------------------------------------------------------\u001b[0m",
      "\u001b[1;31mTypeError\u001b[0m                                 Traceback (most recent call last)",
      "\u001b[1;32m<ipython-input-122-0bf2183a877d>\u001b[0m in \u001b[0;36m<module>\u001b[1;34m()\u001b[0m\n\u001b[1;32m----> 1\u001b[1;33m \u001b[0mcheckChain\u001b[0m\u001b[1;33m(\u001b[0m\u001b[0mchain\u001b[0m\u001b[1;33m)\u001b[0m\u001b[1;33m\u001b[0m\u001b[0m\n\u001b[0m",
      "\u001b[1;32m<ipython-input-121-c17d9e5175ae>\u001b[0m in \u001b[0;36mcheckChain\u001b[1;34m(chain)\u001b[0m\n\u001b[0;32m     33\u001b[0m     \u001b[1;31m#    - the validity of the block number\u001b[0m\u001b[1;33m\u001b[0m\u001b[1;33m\u001b[0m\u001b[0m\n\u001b[0;32m     34\u001b[0m     \u001b[1;32mfor\u001b[0m \u001b[0mblock\u001b[0m \u001b[1;32min\u001b[0m \u001b[0mchain\u001b[0m\u001b[1;33m[\u001b[0m\u001b[1;36m1\u001b[0m\u001b[1;33m:\u001b[0m\u001b[1;33m]\u001b[0m\u001b[1;33m:\u001b[0m\u001b[1;33m\u001b[0m\u001b[0m\n\u001b[1;32m---> 35\u001b[1;33m         \u001b[0mstate\u001b[0m \u001b[1;33m=\u001b[0m \u001b[0mcheckBlockValidity\u001b[0m\u001b[1;33m(\u001b[0m\u001b[0mblock\u001b[0m\u001b[1;33m,\u001b[0m\u001b[0mparent\u001b[0m\u001b[1;33m,\u001b[0m\u001b[0mstate\u001b[0m\u001b[1;33m)\u001b[0m\u001b[1;33m\u001b[0m\u001b[0m\n\u001b[0m\u001b[0;32m     36\u001b[0m         \u001b[0mparent\u001b[0m \u001b[1;33m=\u001b[0m \u001b[0mblock\u001b[0m\u001b[1;33m\u001b[0m\u001b[0m\n\u001b[0;32m     37\u001b[0m \u001b[1;33m\u001b[0m\u001b[0m\n",
      "\u001b[1;32m<ipython-input-42-6bcc2b9300e5>\u001b[0m in \u001b[0;36mcheckBlockValidity\u001b[1;34m(block, parent, state)\u001b[0m\n\u001b[0;32m     11\u001b[0m     \u001b[1;31m# Check transaction validity; throw an error if an invalid transaction was found.\u001b[0m\u001b[1;33m\u001b[0m\u001b[1;33m\u001b[0m\u001b[0m\n\u001b[0;32m     12\u001b[0m     \u001b[1;32mfor\u001b[0m \u001b[0mtxn\u001b[0m \u001b[1;32min\u001b[0m \u001b[0mblock\u001b[0m\u001b[1;33m[\u001b[0m\u001b[1;34m'contents'\u001b[0m\u001b[1;33m]\u001b[0m\u001b[1;33m[\u001b[0m\u001b[1;34m'txns'\u001b[0m\u001b[1;33m]\u001b[0m\u001b[1;33m:\u001b[0m\u001b[1;33m\u001b[0m\u001b[0m\n\u001b[1;32m---> 13\u001b[1;33m         \u001b[1;32mif\u001b[0m \u001b[0misValidTxn\u001b[0m\u001b[1;33m(\u001b[0m\u001b[0mtxn\u001b[0m\u001b[1;33m,\u001b[0m\u001b[0mstate\u001b[0m\u001b[1;33m)\u001b[0m\u001b[1;33m:\u001b[0m\u001b[1;33m\u001b[0m\u001b[0m\n\u001b[0m\u001b[0;32m     14\u001b[0m             \u001b[0mstate\u001b[0m \u001b[1;33m=\u001b[0m \u001b[0mupdateState\u001b[0m\u001b[1;33m(\u001b[0m\u001b[0mtxn\u001b[0m\u001b[1;33m,\u001b[0m\u001b[0mstate\u001b[0m\u001b[1;33m)\u001b[0m\u001b[1;33m\u001b[0m\u001b[0m\n\u001b[0;32m     15\u001b[0m         \u001b[1;32melse\u001b[0m\u001b[1;33m:\u001b[0m\u001b[1;33m\u001b[0m\u001b[0m\n",
      "\u001b[1;31mTypeError\u001b[0m: 'bool' object is not callable"
     ]
    }
   ],
   "source": [
    "checkChain(chain)"
   ]
  },
  {
   "cell_type": "markdown",
   "metadata": {},
   "source": [
    "And even if we are loading the chain from a text file, e.g. from backup or loading it for the first time, we can check the integrity of the chain and create the current state:"
   ]
  },
  {
   "cell_type": "code",
   "execution_count": 123,
   "metadata": {
    "collapsed": false
   },
   "outputs": [
    {
     "ename": "TypeError",
     "evalue": "'bool' object is not callable",
     "output_type": "error",
     "traceback": [
      "\u001b[1;31m---------------------------------------------------------------------------\u001b[0m",
      "\u001b[1;31mTypeError\u001b[0m                                 Traceback (most recent call last)",
      "\u001b[1;32m<ipython-input-123-2acc6b96aa22>\u001b[0m in \u001b[0;36m<module>\u001b[1;34m()\u001b[0m\n\u001b[0;32m      1\u001b[0m \u001b[0mchainAsText\u001b[0m \u001b[1;33m=\u001b[0m \u001b[0mjson\u001b[0m\u001b[1;33m.\u001b[0m\u001b[0mdumps\u001b[0m\u001b[1;33m(\u001b[0m\u001b[0mchain\u001b[0m\u001b[1;33m,\u001b[0m\u001b[0msort_keys\u001b[0m\u001b[1;33m=\u001b[0m\u001b[0mTrue\u001b[0m\u001b[1;33m)\u001b[0m\u001b[1;33m\u001b[0m\u001b[0m\n\u001b[1;32m----> 2\u001b[1;33m \u001b[0mcheckChain\u001b[0m\u001b[1;33m(\u001b[0m\u001b[0mchainAsText\u001b[0m\u001b[1;33m)\u001b[0m\u001b[1;33m\u001b[0m\u001b[0m\n\u001b[0m",
      "\u001b[1;32m<ipython-input-121-c17d9e5175ae>\u001b[0m in \u001b[0;36mcheckChain\u001b[1;34m(chain)\u001b[0m\n\u001b[0;32m     33\u001b[0m     \u001b[1;31m#    - the validity of the block number\u001b[0m\u001b[1;33m\u001b[0m\u001b[1;33m\u001b[0m\u001b[0m\n\u001b[0;32m     34\u001b[0m     \u001b[1;32mfor\u001b[0m \u001b[0mblock\u001b[0m \u001b[1;32min\u001b[0m \u001b[0mchain\u001b[0m\u001b[1;33m[\u001b[0m\u001b[1;36m1\u001b[0m\u001b[1;33m:\u001b[0m\u001b[1;33m]\u001b[0m\u001b[1;33m:\u001b[0m\u001b[1;33m\u001b[0m\u001b[0m\n\u001b[1;32m---> 35\u001b[1;33m         \u001b[0mstate\u001b[0m \u001b[1;33m=\u001b[0m \u001b[0mcheckBlockValidity\u001b[0m\u001b[1;33m(\u001b[0m\u001b[0mblock\u001b[0m\u001b[1;33m,\u001b[0m\u001b[0mparent\u001b[0m\u001b[1;33m,\u001b[0m\u001b[0mstate\u001b[0m\u001b[1;33m)\u001b[0m\u001b[1;33m\u001b[0m\u001b[0m\n\u001b[0m\u001b[0;32m     36\u001b[0m         \u001b[0mparent\u001b[0m \u001b[1;33m=\u001b[0m \u001b[0mblock\u001b[0m\u001b[1;33m\u001b[0m\u001b[0m\n\u001b[0;32m     37\u001b[0m \u001b[1;33m\u001b[0m\u001b[0m\n",
      "\u001b[1;32m<ipython-input-42-6bcc2b9300e5>\u001b[0m in \u001b[0;36mcheckBlockValidity\u001b[1;34m(block, parent, state)\u001b[0m\n\u001b[0;32m     11\u001b[0m     \u001b[1;31m# Check transaction validity; throw an error if an invalid transaction was found.\u001b[0m\u001b[1;33m\u001b[0m\u001b[1;33m\u001b[0m\u001b[0m\n\u001b[0;32m     12\u001b[0m     \u001b[1;32mfor\u001b[0m \u001b[0mtxn\u001b[0m \u001b[1;32min\u001b[0m \u001b[0mblock\u001b[0m\u001b[1;33m[\u001b[0m\u001b[1;34m'contents'\u001b[0m\u001b[1;33m]\u001b[0m\u001b[1;33m[\u001b[0m\u001b[1;34m'txns'\u001b[0m\u001b[1;33m]\u001b[0m\u001b[1;33m:\u001b[0m\u001b[1;33m\u001b[0m\u001b[0m\n\u001b[1;32m---> 13\u001b[1;33m         \u001b[1;32mif\u001b[0m \u001b[0misValidTxn\u001b[0m\u001b[1;33m(\u001b[0m\u001b[0mtxn\u001b[0m\u001b[1;33m,\u001b[0m\u001b[0mstate\u001b[0m\u001b[1;33m)\u001b[0m\u001b[1;33m:\u001b[0m\u001b[1;33m\u001b[0m\u001b[0m\n\u001b[0m\u001b[0;32m     14\u001b[0m             \u001b[0mstate\u001b[0m \u001b[1;33m=\u001b[0m \u001b[0mupdateState\u001b[0m\u001b[1;33m(\u001b[0m\u001b[0mtxn\u001b[0m\u001b[1;33m,\u001b[0m\u001b[0mstate\u001b[0m\u001b[1;33m)\u001b[0m\u001b[1;33m\u001b[0m\u001b[0m\n\u001b[0;32m     15\u001b[0m         \u001b[1;32melse\u001b[0m\u001b[1;33m:\u001b[0m\u001b[1;33m\u001b[0m\u001b[0m\n",
      "\u001b[1;31mTypeError\u001b[0m: 'bool' object is not callable"
     ]
    }
   ],
   "source": [
    "chainAsText = json.dumps(chain,sort_keys=True)\n",
    "checkChain(chainAsText)"
   ]
  },
  {
   "cell_type": "markdown",
   "metadata": {},
   "source": [
    "## JUNTANDOLO TODO: LA ARQUITECTURA BLOCKCHAIN FINAL\n",
    "(Putting it together: The final Blockchain Architecture)"
   ]
  },
  {
   "cell_type": "markdown",
   "metadata": {},
   "source": [
    "EN UNA RED BLOCKCHAIN ACTUAL, LOS NUEVOS NODOS DEBEN DESCARGAR UNA COPIA DEL BLOCKCHAIN Y VERIFICARLA (COMO HEMOS HECHO MAS ARRIBA) Y ENTONCES, ANUNCIAR SU PRESENCIA EN LA RED PEER-TO-PEER Y EMPEZAR A ESCUCHAR LAS TRANSACCIONES. AGRUPANDO LAS TRANSACCIONES EN UN BLOCK Y PASAR SU PROPUESTA DE BLOQUE A LOS OTROS NODOS.\n",
    "\n",
    "HEMOS VISTO COMO VERIFICAR UNA COPIA DEL BLOCKCHAIN Y COMO AGRUPAR LAS TRANSACCIONES EN UN BLOQUE. SI RECIBIMOS UN BLOQUE DESDE ALGUN OTRO SITIO, VERIFICARLO Y AÑADIRLO A NUESTRO BLOCKCHAIN ES FACIL.\n",
    "\n",
    "DIGAMOS QUE EL SIGUIENTE CODIGO SE EJECUTA EN EL NODO A, QUE ES EL QUE MINA EL BLOQUE:"
   ]
  },
  {
   "cell_type": "code",
   "execution_count": 55,
   "metadata": {
    "collapsed": false
   },
   "outputs": [
    {
     "ename": "NameError",
     "evalue": "name 'makeTransaction' is not defined",
     "output_type": "error",
     "traceback": [
      "\u001b[1;31m---------------------------------------------------------------------------\u001b[0m",
      "\u001b[1;31mNameError\u001b[0m                                 Traceback (most recent call last)",
      "\u001b[1;32m<ipython-input-55-472ed3cc9c09>\u001b[0m in \u001b[0;36m<module>\u001b[1;34m()\u001b[0m\n\u001b[0;32m      1\u001b[0m \u001b[1;32mimport\u001b[0m \u001b[0mcopy\u001b[0m\u001b[1;33m\u001b[0m\u001b[0m\n\u001b[0;32m      2\u001b[0m \u001b[0mnodeBchain\u001b[0m \u001b[1;33m=\u001b[0m \u001b[0mcopy\u001b[0m\u001b[1;33m.\u001b[0m\u001b[0mcopy\u001b[0m\u001b[1;33m(\u001b[0m\u001b[0mchain\u001b[0m\u001b[1;33m)\u001b[0m\u001b[1;33m\u001b[0m\u001b[0m\n\u001b[1;32m----> 3\u001b[1;33m \u001b[0mnodeBtxns\u001b[0m  \u001b[1;33m=\u001b[0m \u001b[1;33m[\u001b[0m\u001b[0mmakeTransaction\u001b[0m\u001b[1;33m(\u001b[0m\u001b[1;33m)\u001b[0m \u001b[1;32mfor\u001b[0m \u001b[0mi\u001b[0m \u001b[1;32min\u001b[0m \u001b[0mrange\u001b[0m\u001b[1;33m(\u001b[0m\u001b[1;36m5\u001b[0m\u001b[1;33m)\u001b[0m\u001b[1;33m]\u001b[0m\u001b[1;33m\u001b[0m\u001b[0m\n\u001b[0m\u001b[0;32m      4\u001b[0m \u001b[0mnewBlock\u001b[0m   \u001b[1;33m=\u001b[0m \u001b[0mmakeBlock\u001b[0m\u001b[1;33m(\u001b[0m\u001b[0mnodeBtxns\u001b[0m\u001b[1;33m,\u001b[0m\u001b[0mnodeBchain\u001b[0m\u001b[1;33m)\u001b[0m\u001b[1;33m\u001b[0m\u001b[0m\n",
      "\u001b[1;31mNameError\u001b[0m: name 'makeTransaction' is not defined"
     ]
    }
   ],
   "source": [
    "import copy\n",
    "nodeBchain = copy.copy(chain)\n",
    "nodeBtxns  = [makeTransaction() for i in range(5)]\n",
    "newBlock   = makeBlock(nodeBtxns,nodeBchain)"
   ]
  },
  {
   "cell_type": "markdown",
   "metadata": {},
   "source": [
    "ASUMAMOS AHORA QUE EL NUEVO BLOQUE SE TRANSMITE A NUESTRO NODO Y QUE QUEREMOS CHEQUEARLO Y ACTUALIZAR NUESTRO ESTADO, SI ES QUE ES UN BLOQUE VALIDO:"
   ]
  },
  {
   "cell_type": "code",
   "execution_count": 56,
   "metadata": {
    "collapsed": false
   },
   "outputs": [
    {
     "ename": "NameError",
     "evalue": "name 'newBlock' is not defined",
     "output_type": "error",
     "traceback": [
      "\u001b[1;31m---------------------------------------------------------------------------\u001b[0m",
      "\u001b[1;31mNameError\u001b[0m                                 Traceback (most recent call last)",
      "\u001b[1;32m<ipython-input-56-afb7596da514>\u001b[0m in \u001b[0;36m<module>\u001b[1;34m()\u001b[0m\n\u001b[0;32m      5\u001b[0m \u001b[1;31m# print(nodeBtxns)\u001b[0m\u001b[1;33m\u001b[0m\u001b[1;33m\u001b[0m\u001b[0m\n\u001b[0;32m      6\u001b[0m \u001b[1;33m\u001b[0m\u001b[0m\n\u001b[1;32m----> 7\u001b[1;33m \u001b[1;32mprint\u001b[0m\u001b[1;33m(\u001b[0m\u001b[0mnewBlock\u001b[0m\u001b[1;33m)\u001b[0m\u001b[1;33m\u001b[0m\u001b[0m\n\u001b[0m\u001b[0;32m      8\u001b[0m \u001b[1;33m\u001b[0m\u001b[0m\n\u001b[0;32m      9\u001b[0m \u001b[1;31m# FUNCIONAN LAS TRES VARIABLES Y DAN DIFERENTES CONTENIDOS\u001b[0m\u001b[1;33m\u001b[0m\u001b[1;33m\u001b[0m\u001b[0m\n",
      "\u001b[1;31mNameError\u001b[0m: name 'newBlock' is not defined"
     ]
    }
   ],
   "source": [
    "# PRUEBA DE IMPRESION DE CONTENIDO DE LAS VARIABLES ANTERIORES\n",
    "\n",
    "# print(nodeBchain)\n",
    "\n",
    "# print(nodeBtxns)\n",
    "\n",
    "print(newBlock)\n",
    "\n",
    "# FUNCIONAN LAS TRES VARIABLES Y DAN DIFERENTES CONTENIDOS\n",
    "    # PENDIENTE DE COMENTAR CADA UNA DE ELLAS"
   ]
  },
  {
   "cell_type": "code",
   "execution_count": 57,
   "metadata": {
    "collapsed": false
   },
   "outputs": [
    {
     "name": "stdout",
     "output_type": "stream",
     "text": [
      "Blockchain on Node A is currently 2 blocks long\n",
      "New Block Received; checking validity...\n",
      "Invalid block; ignoring and waiting for the next block...\n",
      "Blockchain on Node A is now 2 blocks long\n"
     ]
    }
   ],
   "source": [
    "print(\"Blockchain on Node A is currently %s blocks long\"%len(chain))\n",
    "\n",
    "try:\n",
    "    print(\"New Block Received; checking validity...\")\n",
    "    state = checkBlockValidity(newBlock,chain[-1],state) # Update the state- this will throw an error if the block is invalid!\n",
    "    chain.append(newBlock)\n",
    "except:\n",
    "    print(\"Invalid block; ignoring and waiting for the next block...\")\n",
    "\n",
    "print(\"Blockchain on Node A is now %s blocks long\"%len(chain))"
   ]
  },
  {
   "cell_type": "markdown",
   "metadata": {},
   "source": [
    "COMENTARIO:\n",
    "* ACTUALIZA EL ESTADO - LANZARA UN ERROR SI EL BLOQUE ES INVALIDO\n",
    "\n",
    "* LO PRIMERO QUE HACE ES IMPRIMIR EL NUMERO DE BLOQUES QUE TIENE EL BLOCKCHAIN EN EL NODO A\n",
    "* DESPUES INFORMA DE QUE SE HA RECIBIDO UN NUEVO BLOQUE Y QUE ESTA CHEQUEANDO SU VALIDEZ\n",
    "* LANZARA UN ERROR SI EL BLOQUE ES INVALIDO\n",
    "* SI LA ACTUALIZACION ES CORRECTA IMPRIME LA NUEVA LONGITUD DE LOS BLOQUES DEL BLOCKCHAIN EN EL NODO A"
   ]
  },
  {
   "cell_type": "code",
   "execution_count": 58,
   "metadata": {
    "collapsed": false
   },
   "outputs": [
    {
     "name": "stdout",
     "output_type": "stream",
     "text": [
      "[{u'hash': u'd5dc13b6c9658c60b67efcebf54eb2a7a896f5e69532774d8fd6da91c70b9aab', u'contents': {u'txns': [{u'Canal': 'Presencial', u'OficinaCita': 'OMIC MORATALAZ', u'DetalleCanal': 'OAC VILLA DE VALLECA', u'FechaAtt': '26/09/2017', u'Atendida': 'Si', u'FechaConcer': '21/09/2017', u'Tarea': 'INFORMACION Y NUEVAS RECLAMACIONES'}], u'parentHash': None, u'txnCount': 1, u'blockNumber': 0}}, {u'hash': u'6b43a55115cb29dcde2d6af7a8bac3a805ec007a59efb4db1c299fc0ed0999f1', u'contents': {'txns': [{u'Canal': 'Presencial', u'OficinaCita': 'OMIC MORATALAZ', u'DetalleCanal': 'OAC VILLA DE VALLECA', u'FechaAtt': '26/09/2017', u'Atendida': 'Si', u'FechaConcer': '21/09/2017', u'Tarea': 'INFORMACION Y NUEVAS RECLAMACIONES'}, {u'Canal': 'Presencial', u'OficinaCita': 'OMIC MORATALAZ', u'DetalleCanal': 'OAC VILLA DE VALLECA', u'FechaAtt': '26/09/2017', u'Atendida': 'Si', u'FechaConcer': '21/09/2017', u'Tarea': 'INFORMACION Y NUEVAS RECLAMACIONES'}, {u'Canal': 'Presencial', u'OficinaCita': 'OMIC MORATALAZ', u'DetalleCanal': 'OAC VILLA DE VALLECA', u'FechaAtt': '26/09/2017', u'Atendida': 'Si', u'FechaConcer': '21/09/2017', u'Tarea': 'INFORMACION Y NUEVAS RECLAMACIONES'}, {u'Canal': 'Presencial', u'OficinaCita': 'OMIC MORATALAZ', u'DetalleCanal': 'OAC VILLA DE VALLECA', u'FechaAtt': '26/09/2017', u'Atendida': 'Si', u'FechaConcer': '21/09/2017', u'Tarea': 'INFORMACION Y NUEVAS RECLAMACIONES'}, {u'Canal': 'Presencial', u'OficinaCita': 'OMIC MORATALAZ', u'DetalleCanal': 'OAC VILLA DE VALLECA', u'FechaAtt': '26/09/2017', u'Atendida': 'Si', u'FechaConcer': '21/09/2017', u'Tarea': 'INFORMACION Y NUEVAS RECLAMACIONES'}, {u'Canal': 'Presencial', u'OficinaCita': 'OMIC MORATALAZ', u'DetalleCanal': 'OAC VILLA DE VALLECA', u'FechaAtt': '26/09/2017', u'Atendida': 'Si', u'FechaConcer': '21/09/2017', u'Tarea': 'INFORMACION Y NUEVAS RECLAMACIONES'}, {u'Canal': 'Presencial', u'OficinaCita': 'OMIC MORATALAZ', u'DetalleCanal': 'OAC VILLA DE VALLECA', u'FechaAtt': '26/09/2017', u'Atendida': 'Si', u'FechaConcer': '21/09/2017', u'Tarea': 'INFORMACION Y NUEVAS RECLAMACIONES'}, {u'Canal': 'Presencial', u'OficinaCita': 'OMIC MORATALAZ', u'DetalleCanal': 'OAC VILLA DE VALLECA', u'FechaAtt': '26/09/2017', u'Atendida': 'Si', u'FechaConcer': '21/09/2017', u'Tarea': 'INFORMACION Y NUEVAS RECLAMACIONES'}, {u'Canal': 'Presencial', u'OficinaCita': 'OMIC MORATALAZ', u'DetalleCanal': 'OAC VILLA DE VALLECA', u'FechaAtt': '26/09/2017', u'Atendida': 'Si', u'FechaConcer': '21/09/2017', u'Tarea': 'INFORMACION Y NUEVAS RECLAMACIONES'}, {u'Canal': 'Presencial', u'OficinaCita': 'OMIC MORATALAZ', u'DetalleCanal': 'OAC VILLA DE VALLECA', u'FechaAtt': '26/09/2017', u'Atendida': 'Si', u'FechaConcer': '21/09/2017', u'Tarea': 'INFORMACION Y NUEVAS RECLAMACIONES'}], u'parentHash': u'd5dc13b6c9658c60b67efcebf54eb2a7a896f5e69532774d8fd6da91c70b9aab', u'txnCount': 10, u'blockNumber': 1}}]\n"
     ]
    }
   ],
   "source": [
    "# PRUEBA DE IMPRESION DE CONTENIDO DE LAS VARIABLES ANTERIORES\n",
    "\n",
    "print(chain)"
   ]
  },
  {
   "cell_type": "code",
   "execution_count": 59,
   "metadata": {
    "collapsed": false
   },
   "outputs": [
    {
     "name": "stdout",
     "output_type": "stream",
     "text": [
      "{u'Canal': 'PresencialPresencialPresencialPresencialPresencialPresencialPresencialPresencialPresencialPresencialPresencial', u'FechaConcer': '21/09/201721/09/201721/09/201721/09/201721/09/201721/09/201721/09/201721/09/201721/09/201721/09/201721/09/2017', u'OficinaCita': 'OMIC MORATALAZOMIC MORATALAZOMIC MORATALAZOMIC MORATALAZOMIC MORATALAZOMIC MORATALAZOMIC MORATALAZOMIC MORATALAZOMIC MORATALAZOMIC MORATALAZOMIC MORATALAZ', u'DetalleCanal': 'OAC VILLA DE VALLECAOAC VILLA DE VALLECAOAC VILLA DE VALLECAOAC VILLA DE VALLECAOAC VILLA DE VALLECAOAC VILLA DE VALLECAOAC VILLA DE VALLECAOAC VILLA DE VALLECAOAC VILLA DE VALLECAOAC VILLA DE VALLECAOAC VILLA DE VALLECA', u'FechaAtt': '26/09/201726/09/201726/09/201726/09/201726/09/201726/09/201726/09/201726/09/201726/09/201726/09/201726/09/2017', u'Tarea': 'INFORMACION Y NUEVAS RECLAMACIONESINFORMACION Y NUEVAS RECLAMACIONESINFORMACION Y NUEVAS RECLAMACIONESINFORMACION Y NUEVAS RECLAMACIONESINFORMACION Y NUEVAS RECLAMACIONESINFORMACION Y NUEVAS RECLAMACIONESINFORMACION Y NUEVAS RECLAMACIONESINFORMACION Y NUEVAS RECLAMACIONESINFORMACION Y NUEVAS RECLAMACIONESINFORMACION Y NUEVAS RECLAMACIONESINFORMACION Y NUEVAS RECLAMACIONES', u'Atendida': 'SiSiSiSiSiSiSiSiSiSiSi'}\n"
     ]
    }
   ],
   "source": [
    "print(state)"
   ]
  },
  {
   "cell_type": "markdown",
   "metadata": {},
   "source": [
    "# -----------------------------------------------------------------------------------------------------------------"
   ]
  },
  {
   "cell_type": "markdown",
   "metadata": {},
   "source": [
    "### CONCLUSIONES Y EXTENSIONES:\n",
    "\n",
    "HEMOS CREADO TODA LA ARQUITECTURA BASICA PARA UN BLOCKCHAIN, DESDE UN CONJUNTO DE REGLAS DE TRANSICIONES ENTRE ESTADOS HASTA UN METODO PARA CREAR BLOQUES, TAMBIEN MECANISMOS PARA CHEQUEAR LA VALIDEZ DE LAS TRANSACCIONES, DE LOS BLOQUES Y DE LA CADENA COMPLETA. PODEMOS DERIVAR EL ESTADO DEL SISTEMA DESDE UNA COPIA DESCARGADA DEL BLOCKCHAIN, VALIDAR LOS NUEVOS BLOQUES QUE RECIBAMOS DESDE LA RED, ASI COMO CREAR NUESTROS PROPIOS BLOQUES.\n",
    "\n",
    "EL ESTADO DEL SISTEMA QUE HEMOS CREADO ES EFECTIVAMENTE UN LEDGER (LIBRO MAYOR) DISTRIBUIDO O BASE DE DATOS Y ES EL CORAZON DE MUCHOS BLOCKCHAINS. PODEMOS AMPLIARLO PARA INCLUIR TIPOS DE TRANSACCIONES ESPECIALES O CONTRATOS INTELIGENTES COMPLETOS.\n",
    "\n",
    "NO HEMOS EXPLORADO LA ARQUITECTURA DE LA RED, LOS PASOS DE VALIDACION DE LAS PRUEBAS DE TRABAJO O DE LAS PRUEBAS DE ESTADO NI EL MECANISMO DE CONSENSO QUE PROPORCIONA SEGURIDAD A LOS BLOCKCHAINS FRENTE A ATAQUES. TAMPOCO HEMOS DISCUTIDO SOBRE LA CRIPTOGRAFÍA DE CLAVE PUBLICA, PRIVACIDAD Y PASOS DE VERIFICACION. ¡SERA EN UN FUTURO!"
   ]
  },
  {
   "cell_type": "markdown",
   "metadata": {},
   "source": [
    "# -----------------------------------------------------------------------------------------------------------------"
   ]
  },
  {
   "cell_type": "markdown",
   "metadata": {},
   "source": [
    "# -----------------------------------------------------------------------------------------------------------------"
   ]
  }
 ],
 "metadata": {
  "kernelspec": {
   "display_name": "Python 2",
   "language": "python",
   "name": "python2"
  },
  "language_info": {
   "codemirror_mode": {
    "name": "ipython",
    "version": 2
   },
   "file_extension": ".py",
   "mimetype": "text/x-python",
   "name": "python",
   "nbconvert_exporter": "python",
   "pygments_lexer": "ipython2",
   "version": "2.7.13"
  }
 },
 "nbformat": 4,
 "nbformat_minor": 1
}
